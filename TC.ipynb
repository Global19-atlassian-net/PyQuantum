{
 "cells": [
  {
   "cell_type": "code",
   "execution_count": 1,
   "metadata": {},
   "outputs": [],
   "source": [
    "# system\n",
    "import sys"
   ]
  },
  {
   "cell_type": "code",
   "execution_count": 2,
   "metadata": {},
   "outputs": [],
   "source": [
    "# TC\n",
    "from PyQuantum.TC.Cavity import Cavity\n",
    "from PyQuantum.TC.Hamiltonian import Hamiltonian\n",
    "\n",
    "from PyQuantum.TC.WaveFunction import WaveFunction\n",
    "from PyQuantum.TC.DensityMatrix import *\n",
    "\n",
    "from PyQuantum.TC.Evolution import *"
   ]
  },
  {
   "cell_type": "code",
   "execution_count": 3,
   "metadata": {},
   "outputs": [],
   "source": [
    "# Common\n",
    "from PyQuantum.Common.LoadPackage import *\n",
    "from PyQuantum.Common.STR import *\n",
    "\n",
    "from PyQuantum.Common.ext import mkdir\n",
    "from PyQuantum.Common.Print import *\n",
    "from PyQuantum.Common.PyPlot import PyPlot3D"
   ]
  },
  {
   "cell_type": "code",
   "execution_count": 4,
   "metadata": {},
   "outputs": [],
   "source": [
    "import PyQuantum.TC.config as config\n",
    "\n",
    "mkdir(config.path)"
   ]
  },
  {
   "cell_type": "code",
   "execution_count": 5,
   "metadata": {},
   "outputs": [
    {
     "name": "stdout",
     "output_type": "stream",
     "text": [
      "\u001b[1;36;1mCavity:\u001b[1;32;0m\n",
      "\u001b[1;33;1m n: \u001b[1;32;0m2\n",
      "\n",
      "\u001b[1;33;1mwc: \u001b[1;32;0m21.506 GHz\n",
      "\n",
      "\u001b[1;33;1mwa: \u001b[1;32;0m21.506 GHz\n",
      "\n",
      "\u001b[1;33;1m g: \u001b[1;32;0m215.06 MHz\n",
      "\n",
      "\n",
      "T: 5e-08\n",
      "nt: 25\n",
      "dt: 1.9999999999999997e-09\n",
      "\n"
     ]
    }
   ],
   "source": [
    "cavity = Cavity(n=config.n, wc=config.wc, wa=config.wa, g=config.g)\n",
    "\n",
    "cavity.print()\n",
    "\n",
    "print(\"T:\", config.T)\n",
    "print(\"nt:\", config.nt)\n",
    "print(\"dt:\", config.dt)\n",
    "\n",
    "print()"
   ]
  },
  {
   "cell_type": "code",
   "execution_count": 6,
   "metadata": {},
   "outputs": [
    {
     "name": "stdout",
     "output_type": "stream",
     "text": [
      "\u001b[1;36;1mStates:\u001b[1;32;0m\n",
      "[0, [0, 0]]\n",
      "[0, [0, 1]]\n",
      "[0, [1, 0]]\n",
      "[0, [1, 1]]\n",
      "[1, [0, 0]]\n",
      "[1, [0, 1]]\n",
      "[1, [1, 0]]\n",
      "\n"
     ]
    },
    {
     "data": {
      "text/html": [
       "<div>\n",
       "<style scoped>\n",
       "    .dataframe tbody tr th:only-of-type {\n",
       "        vertical-align: middle;\n",
       "    }\n",
       "\n",
       "    .dataframe tbody tr th {\n",
       "        vertical-align: top;\n",
       "    }\n",
       "\n",
       "    .dataframe thead th {\n",
       "        text-align: right;\n",
       "    }\n",
       "</style>\n",
       "<table border=\"1\" class=\"dataframe\">\n",
       "  <thead>\n",
       "    <tr style=\"text-align: right;\">\n",
       "      <th></th>\n",
       "      <th>[0, [0, 0]]</th>\n",
       "      <th>[0, [0, 1]]</th>\n",
       "      <th>[0, [1, 0]]</th>\n",
       "      <th>[0, [1, 1]]</th>\n",
       "      <th>[1, [0, 0]]</th>\n",
       "      <th>[1, [0, 1]]</th>\n",
       "      <th>[1, [1, 0]]</th>\n",
       "    </tr>\n",
       "  </thead>\n",
       "  <tbody>\n",
       "    <tr>\n",
       "      <th>[0, [0, 0]]</th>\n",
       "      <td></td>\n",
       "      <td>0</td>\n",
       "      <td>0</td>\n",
       "      <td>0</td>\n",
       "      <td>0</td>\n",
       "      <td>0</td>\n",
       "      <td>0</td>\n",
       "    </tr>\n",
       "    <tr>\n",
       "      <th>[0, [0, 1]]</th>\n",
       "      <td>0</td>\n",
       "      <td>wa</td>\n",
       "      <td>0</td>\n",
       "      <td>0</td>\n",
       "      <td>g</td>\n",
       "      <td>0</td>\n",
       "      <td>0</td>\n",
       "    </tr>\n",
       "    <tr>\n",
       "      <th>[0, [1, 0]]</th>\n",
       "      <td>0</td>\n",
       "      <td>0</td>\n",
       "      <td>wa</td>\n",
       "      <td>0</td>\n",
       "      <td>g</td>\n",
       "      <td>0</td>\n",
       "      <td>0</td>\n",
       "    </tr>\n",
       "    <tr>\n",
       "      <th>[0, [1, 1]]</th>\n",
       "      <td>0</td>\n",
       "      <td>0</td>\n",
       "      <td>0</td>\n",
       "      <td>2*wa</td>\n",
       "      <td>0</td>\n",
       "      <td>g</td>\n",
       "      <td>g</td>\n",
       "    </tr>\n",
       "    <tr>\n",
       "      <th>[1, [0, 0]]</th>\n",
       "      <td>0</td>\n",
       "      <td>g</td>\n",
       "      <td>g</td>\n",
       "      <td>0</td>\n",
       "      <td>wc</td>\n",
       "      <td>0</td>\n",
       "      <td>0</td>\n",
       "    </tr>\n",
       "    <tr>\n",
       "      <th>[1, [0, 1]]</th>\n",
       "      <td>0</td>\n",
       "      <td>0</td>\n",
       "      <td>0</td>\n",
       "      <td>g</td>\n",
       "      <td>0</td>\n",
       "      <td>wc + wa</td>\n",
       "      <td>0</td>\n",
       "    </tr>\n",
       "    <tr>\n",
       "      <th>[1, [1, 0]]</th>\n",
       "      <td>0</td>\n",
       "      <td>0</td>\n",
       "      <td>0</td>\n",
       "      <td>g</td>\n",
       "      <td>0</td>\n",
       "      <td>0</td>\n",
       "      <td>wc + wa</td>\n",
       "    </tr>\n",
       "  </tbody>\n",
       "</table>\n",
       "</div>"
      ],
      "text/plain": [
       "            [0, [0, 0]] [0, [0, 1]] [0, [1, 0]] [0, [1, 1]] [1, [0, 0]]  \\\n",
       "[0, [0, 0]]                       0           0           0           0   \n",
       "[0, [0, 1]]           0          wa           0           0           g   \n",
       "[0, [1, 0]]           0           0          wa           0           g   \n",
       "[0, [1, 1]]           0           0           0        2*wa           0   \n",
       "[1, [0, 0]]           0           g           g           0          wc   \n",
       "[1, [0, 1]]           0           0           0           g           0   \n",
       "[1, [1, 0]]           0           0           0           g           0   \n",
       "\n",
       "            [1, [0, 1]] [1, [1, 0]]  \n",
       "[0, [0, 0]]           0           0  \n",
       "[0, [0, 1]]           0           0  \n",
       "[0, [1, 0]]           0           0  \n",
       "[0, [1, 1]]           g           g  \n",
       "[1, [0, 0]]           0           0  \n",
       "[1, [0, 1]]     wc + wa           0  \n",
       "[1, [1, 0]]           0     wc + wa  "
      ]
     },
     "execution_count": 6,
     "metadata": {},
     "output_type": "execute_result"
    }
   ],
   "source": [
    "H = Hamiltonian(capacity=config.capacity, cavity=cavity)\n",
    "\n",
    "H.print_states()\n",
    "\n",
    "H.iprint_symb()\n",
    "\n",
    "H.df"
   ]
  },
  {
   "cell_type": "code",
   "execution_count": 7,
   "metadata": {},
   "outputs": [
    {
     "name": "stdout",
     "output_type": "stream",
     "text": [
      "[0, [0, 0]] (0.7071067811865475+0j)\n",
      "[0, [0, 1]] 0j\n",
      "[0, [1, 0]] 0j\n",
      "[0, [1, 1]] (-0.7071067811865475+0j)\n",
      "[1, [0, 0]] 0j\n",
      "[1, [0, 1]] 0j\n",
      "[1, [1, 0]] 0j\n"
     ]
    }
   ],
   "source": [
    "w_0 = WaveFunction(states=H.states, init_state=config.init_state) - \\\n",
    "    WaveFunction(states=H.states, init_state=config.init_state2)\n",
    "\n",
    "w_0.normalize()\n",
    "\n",
    "w_0.print()"
   ]
  },
  {
   "cell_type": "code",
   "execution_count": 8,
   "metadata": {},
   "outputs": [],
   "source": [
    "run_w(w_0, H, dt=config.dt, nt=config.nt, config=config, fidelity_mode=True)"
   ]
  },
  {
   "cell_type": "code",
   "execution_count": 9,
   "metadata": {},
   "outputs": [
    {
     "name": "stdout",
     "output_type": "stream",
     "text": [
      "Making plot...\n",
      "x_ticktext: ['', '', '', '', '', '', '']\n",
      "x_tickvals: [0, 1, 2, 3, 4, 5, 6]\n",
      "y_ticktext: [0.0, 5.0, 10.0, 15.0, 20.0, 25.0, 30.0, 35.0, 40.0, 45.0, 50.0]\n",
      "y_tickvals: [ 0.   2.5  5.   7.5 10.  12.5 15.  17.5 20.  22.5 25. ]\n"
     ]
    },
    {
     "name": "stderr",
     "output_type": "stream",
     "text": [
      "/usr/local/lib/python3.6/dist-packages/plotly/graph_objs/_deprecations.py:396: DeprecationWarning:\n",
      "\n",
      "plotly.graph_objs.Margin is deprecated.\n",
      "Please replace it with one of the following more specific types\n",
      "  - plotly.graph_objs.layout.Margin\n",
      "\n",
      "\n",
      "/usr/local/lib/python3.6/dist-packages/plotly/graph_objs/_deprecations.py:477: DeprecationWarning:\n",
      "\n",
      "plotly.graph_objs.Scene is deprecated.\n",
      "Please replace it with one of the following more specific types\n",
      "  - plotly.graph_objs.Scene\n",
      "\n",
      "\n"
     ]
    },
    {
     "data": {
      "text/html": [
       "<script type=\"text/javascript\">window.PlotlyConfig = {MathJaxConfig: 'local'};</script><script type=\"text/javascript\">if (window.MathJax) {MathJax.Hub.Config({SVG: {font: \"STIX-Web\"}});}</script><script>requirejs.config({paths: { 'plotly': ['https://cdn.plot.ly/plotly-latest.min']},});if(!window._Plotly) {require(['plotly'],function(plotly) {window._Plotly=plotly;});}</script>"
      ],
      "text/vnd.plotly.v1+html": [
       "<script type=\"text/javascript\">window.PlotlyConfig = {MathJaxConfig: 'local'};</script><script type=\"text/javascript\">if (window.MathJax) {MathJax.Hub.Config({SVG: {font: \"STIX-Web\"}});}</script><script>requirejs.config({paths: { 'plotly': ['https://cdn.plot.ly/plotly-latest.min']},});if(!window._Plotly) {require(['plotly'],function(plotly) {window._Plotly=plotly;});}</script>"
      ]
     },
     "metadata": {},
     "output_type": "display_data"
    },
    {
     "data": {
      "application/vnd.plotly.v1+json": {
       "config": {
        "linkText": "Export to plot.ly",
        "plotlyServerURL": "https://plot.ly",
        "showLink": true
       },
       "data": [
        {
         "colorscale": "Portland",
         "lighting": {
          "diffuse": 0.5,
          "fresnel": 0.2,
          "specular": 0.2
         },
         "showlegend": false,
         "showscale": false,
         "type": "surface",
         "uid": "4132acf0-de22-4b97-b91e-11dee8da5166",
         "z": [
          [
           0.5,
           0,
           0,
           0.5,
           0,
           0,
           0
          ],
          [
           0.5,
           0,
           0,
           0.33671999999999996,
           0,
           0.08164,
           0.08164
          ],
          [
           0.5,
           0,
           0,
           0.060160000000000005,
           0,
           0.21991999999999998,
           0.21991999999999998
          ],
          [
           0.5,
           0,
           0,
           0.031580000000000004,
           0,
           0.23421,
           0.23421
          ],
          [
           0.5,
           0,
           0,
           0.28831,
           0,
           0.10584,
           0.10584
          ],
          [
           0.5,
           0,
           0,
           0.495,
           0,
           0.0025,
           0.0025
          ],
          [
           0.5,
           0,
           0,
           0.38165,
           0,
           0.05917000000000001,
           0.05917000000000001
          ],
          [
           0.5,
           0,
           0,
           0.09633,
           0,
           0.20182999999999998,
           0.20182999999999998
          ],
          [
           0.5,
           0,
           0,
           0.01174,
           0,
           0.24413,
           0.24413
          ],
          [
           0.5,
           0,
           0,
           0.23838,
           0,
           0.13080999999999998,
           0.13080999999999998
          ],
          [
           0.5,
           0,
           0,
           0.48018999999999995,
           0,
           0.0099,
           0.0099
          ],
          [
           0.5,
           0,
           0,
           0.42132,
           0,
           0.03934,
           0.03934
          ],
          [
           0.5,
           0,
           0,
           0.13865999999999998,
           0,
           0.18067,
           0.18067
          ],
          [
           0.5,
           0,
           0,
           0.00144,
           0,
           0.24928000000000003,
           0.24928000000000003
          ],
          [
           0.5,
           0,
           0,
           0.18891,
           0,
           0.15555,
           0.15555
          ],
          [
           0.5,
           0,
           0,
           0.45618000000000003,
           0,
           0.02191,
           0.02191
          ],
          [
           0.5,
           0,
           0,
           0.45413000000000003,
           0,
           0.022940000000000002,
           0.022940000000000002
          ],
          [
           0.5,
           0,
           0,
           0.18544000000000002,
           0,
           0.15728,
           0.15728
          ],
          [
           0.5,
           0,
           0,
           0.00108,
           0,
           0.24946,
           0.24946
          ],
          [
           0.5,
           0,
           0,
           0.14188,
           0,
           0.17906,
           0.17906
          ],
          [
           0.5,
           0,
           0,
           0.42391,
           0,
           0.03804,
           0.03804
          ],
          [
           0.5,
           0,
           0,
           0.47877,
           0,
           0.01061,
           0.01061
          ],
          [
           0.5,
           0,
           0,
           0.2348,
           0,
           0.1326,
           0.1326
          ],
          [
           0.5,
           0,
           0,
           0.01068,
           0,
           0.24466,
           0.24466
          ],
          [
           0.5,
           0,
           0,
           0.09917999999999999,
           0,
           0.20040999999999998,
           0.20040999999999998
          ],
          [
           0.5,
           0,
           0,
           0.38469000000000003,
           0,
           0.05766,
           0.05766
          ]
         ]
        }
       ],
       "layout": {
        "autosize": false,
        "height": 650,
        "margin": {
         "b": 0,
         "l": 0,
         "pad": 50,
         "r": 0,
         "t": 35
        },
        "plot_bgcolor": "#AAA",
        "scene": {
         "aspectratio": {
          "x": 1,
          "y": 5,
          "z": 1
         },
         "camera": {
          "center": {
           "x": 0,
           "y": 0,
           "z": 0.2
          },
          "eye": {
           "x": 3.75,
           "y": 3.75,
           "z": 3.75
          },
          "up": {
           "x": 0,
           "y": 0,
           "z": 1
          }
         },
         "xaxis": {
          "autorange": true,
          "showgrid": false,
          "showline": false,
          "tickfont": {
           "size": 14
          },
          "ticktext": [
           "",
           "",
           "",
           "",
           "",
           "",
           ""
          ],
          "tickvals": [
           0,
           1,
           2,
           3,
           4,
           5,
           6
          ],
          "title": "states",
          "titlefont": {
           "size": 18
          }
         },
         "yaxis": {
          "autorange": true,
          "linewidth": 1,
          "tickfont": {
           "size": 14
          },
          "ticktext": [
           0,
           10,
           20,
           30,
           40,
           50
          ],
          "tickvals": [
           0,
           5,
           10,
           15,
           20,
           25
          ],
          "title": "time,  ns\t\t\t\t.",
          "titlefont": {
           "size": 18
          }
         },
         "zaxis": {
          "autorange": true,
          "linewidth": 1,
          "range": [
           0,
           1
          ],
          "tickfont": {
           "size": 14
          },
          "title": "prob.\t\t\t\t\t\t.",
          "titlefont": {
           "size": 18
          }
         }
        },
        "showlegend": false,
        "title": "<b>n = 2<br><br>w<sub>c</sub> = 21.506 GHz<br>w<sub>a</sub> = 21.506 GHz<br> g/hw<sub>c</sub> = 0.01<br><br></b>",
        "titlefont": {
         "color": "#222",
         "family": "Lato",
         "size": 20
        },
        "width": 950,
        "xaxis": {
         "tickfont": {
          "size": 200
         },
         "ticks": "outside"
        },
        "yaxis": {
         "tickfont": {
          "size": 200
         },
         "ticks": "outside",
         "title": "y Axis",
         "titlefont": {
          "color": "#FFFFFF",
          "family": "Courier New, monospace",
          "size": 40
         }
        }
       }
      },
      "text/html": [
       "<div id=\"aa17f853-e6d9-4413-be6f-e1987d3f8924\" style=\"height: 650px; width: 950px;\" class=\"plotly-graph-div\"></div><script type=\"text/javascript\">require([\"plotly\"], function(Plotly) { window.PLOTLYENV=window.PLOTLYENV || {};window.PLOTLYENV.BASE_URL=\"https://plot.ly\";Plotly.newPlot(\"aa17f853-e6d9-4413-be6f-e1987d3f8924\", [{\"colorscale\": \"Portland\", \"lighting\": {\"diffuse\": 0.5, \"fresnel\": 0.2, \"specular\": 0.2}, \"showlegend\": false, \"showscale\": false, \"z\": [[0.5, 0.0, 0.0, 0.5, 0.0, 0.0, 0.0], [0.5, 0.0, 0.0, 0.33671999999999996, 0.0, 0.08164, 0.08164], [0.5, 0.0, 0.0, 0.060160000000000005, 0.0, 0.21991999999999998, 0.21991999999999998], [0.5, 0.0, 0.0, 0.031580000000000004, 0.0, 0.23421, 0.23421], [0.5, 0.0, 0.0, 0.28831, 0.0, 0.10584, 0.10584], [0.5, 0.0, 0.0, 0.495, 0.0, 0.0025, 0.0025], [0.5, 0.0, 0.0, 0.38165, 0.0, 0.05917000000000001, 0.05917000000000001], [0.5, 0.0, 0.0, 0.09633, 0.0, 0.20182999999999998, 0.20182999999999998], [0.5, 0.0, 0.0, 0.01174, 0.0, 0.24413, 0.24413], [0.5, 0.0, 0.0, 0.23838, 0.0, 0.13080999999999998, 0.13080999999999998], [0.5, 0.0, 0.0, 0.48018999999999995, 0.0, 0.0099, 0.0099], [0.5, 0.0, 0.0, 0.42132, 0.0, 0.03934, 0.03934], [0.5, 0.0, 0.0, 0.13865999999999998, 0.0, 0.18067, 0.18067], [0.5, 0.0, 0.0, 0.00144, 0.0, 0.24928000000000003, 0.24928000000000003], [0.5, 0.0, 0.0, 0.18891, 0.0, 0.15555, 0.15555], [0.5, 0.0, 0.0, 0.45618000000000003, 0.0, 0.02191, 0.02191], [0.5, 0.0, 0.0, 0.45413000000000003, 0.0, 0.022940000000000002, 0.022940000000000002], [0.5, 0.0, 0.0, 0.18544000000000002, 0.0, 0.15728, 0.15728], [0.5, 0.0, 0.0, 0.00108, 0.0, 0.24946, 0.24946], [0.5, 0.0, 0.0, 0.14188, 0.0, 0.17906, 0.17906], [0.5, 0.0, 0.0, 0.42391, 0.0, 0.03804, 0.03804], [0.5, 0.0, 0.0, 0.47877, 0.0, 0.01061, 0.01061], [0.5, 0.0, 0.0, 0.2348, 0.0, 0.1326, 0.1326], [0.5, 0.0, 0.0, 0.01068, 0.0, 0.24466, 0.24466], [0.5, 0.0, 0.0, 0.09917999999999999, 0.0, 0.20040999999999998, 0.20040999999999998], [0.5, 0.0, 0.0, 0.38469000000000003, 0.0, 0.05766, 0.05766]], \"type\": \"surface\", \"uid\": \"4132acf0-de22-4b97-b91e-11dee8da5166\"}], {\"autosize\": false, \"height\": 650, \"margin\": {\"b\": 0, \"l\": 0, \"pad\": 50, \"r\": 0, \"t\": 35}, \"plot_bgcolor\": \"#AAA\", \"scene\": {\"aspectratio\": {\"x\": 1, \"y\": 5.0, \"z\": 1}, \"camera\": {\"center\": {\"x\": 0, \"y\": 0, \"z\": 0.2}, \"eye\": {\"x\": 3.75, \"y\": 3.75, \"z\": 3.75}, \"up\": {\"x\": 0, \"y\": 0, \"z\": 1}}, \"xaxis\": {\"autorange\": true, \"showgrid\": false, \"showline\": false, \"tickfont\": {\"size\": 14}, \"ticktext\": [\"\", \"\", \"\", \"\", \"\", \"\", \"\"], \"tickvals\": [0, 1, 2, 3, 4, 5, 6], \"title\": \"states\", \"titlefont\": {\"size\": 18}}, \"yaxis\": {\"autorange\": true, \"linewidth\": 1, \"tickfont\": {\"size\": 14}, \"ticktext\": [0.0, 10.0, 20.0, 30.0, 40.0, 50.0], \"tickvals\": [0.0, 5.0, 10.0, 15.0, 20.0, 25.0], \"title\": \"time,  ns\\t\\t\\t\\t.\", \"titlefont\": {\"size\": 18}}, \"zaxis\": {\"autorange\": true, \"linewidth\": 1, \"range\": [0, 1], \"tickfont\": {\"size\": 14}, \"title\": \"prob.\\t\\t\\t\\t\\t\\t.\", \"titlefont\": {\"size\": 18}}}, \"showlegend\": false, \"title\": \"<b>n = 2<br><br>w<sub>c</sub> = 21.506 GHz<br>w<sub>a</sub> = 21.506 GHz<br> g/hw<sub>c</sub> = 0.01<br><br></b>\", \"titlefont\": {\"color\": \"#222\", \"family\": \"Lato\", \"size\": 20}, \"width\": 950, \"xaxis\": {\"tickfont\": {\"size\": 200}, \"ticks\": \"outside\"}, \"yaxis\": {\"tickfont\": {\"size\": 200}, \"ticks\": \"outside\", \"title\": \"y Axis\", \"titlefont\": {\"color\": \"#FFFFFF\", \"family\": \"Courier New, monospace\", \"size\": 40}}}, {\"showLink\": true, \"linkText\": \"Export to plot.ly\", \"plotlyServerURL\": \"https://plot.ly\"})});</script>"
      ],
      "text/vnd.plotly.v1+html": [
       "<div id=\"aa17f853-e6d9-4413-be6f-e1987d3f8924\" style=\"height: 650px; width: 950px;\" class=\"plotly-graph-div\"></div><script type=\"text/javascript\">require([\"plotly\"], function(Plotly) { window.PLOTLYENV=window.PLOTLYENV || {};window.PLOTLYENV.BASE_URL=\"https://plot.ly\";Plotly.newPlot(\"aa17f853-e6d9-4413-be6f-e1987d3f8924\", [{\"colorscale\": \"Portland\", \"lighting\": {\"diffuse\": 0.5, \"fresnel\": 0.2, \"specular\": 0.2}, \"showlegend\": false, \"showscale\": false, \"z\": [[0.5, 0.0, 0.0, 0.5, 0.0, 0.0, 0.0], [0.5, 0.0, 0.0, 0.33671999999999996, 0.0, 0.08164, 0.08164], [0.5, 0.0, 0.0, 0.060160000000000005, 0.0, 0.21991999999999998, 0.21991999999999998], [0.5, 0.0, 0.0, 0.031580000000000004, 0.0, 0.23421, 0.23421], [0.5, 0.0, 0.0, 0.28831, 0.0, 0.10584, 0.10584], [0.5, 0.0, 0.0, 0.495, 0.0, 0.0025, 0.0025], [0.5, 0.0, 0.0, 0.38165, 0.0, 0.05917000000000001, 0.05917000000000001], [0.5, 0.0, 0.0, 0.09633, 0.0, 0.20182999999999998, 0.20182999999999998], [0.5, 0.0, 0.0, 0.01174, 0.0, 0.24413, 0.24413], [0.5, 0.0, 0.0, 0.23838, 0.0, 0.13080999999999998, 0.13080999999999998], [0.5, 0.0, 0.0, 0.48018999999999995, 0.0, 0.0099, 0.0099], [0.5, 0.0, 0.0, 0.42132, 0.0, 0.03934, 0.03934], [0.5, 0.0, 0.0, 0.13865999999999998, 0.0, 0.18067, 0.18067], [0.5, 0.0, 0.0, 0.00144, 0.0, 0.24928000000000003, 0.24928000000000003], [0.5, 0.0, 0.0, 0.18891, 0.0, 0.15555, 0.15555], [0.5, 0.0, 0.0, 0.45618000000000003, 0.0, 0.02191, 0.02191], [0.5, 0.0, 0.0, 0.45413000000000003, 0.0, 0.022940000000000002, 0.022940000000000002], [0.5, 0.0, 0.0, 0.18544000000000002, 0.0, 0.15728, 0.15728], [0.5, 0.0, 0.0, 0.00108, 0.0, 0.24946, 0.24946], [0.5, 0.0, 0.0, 0.14188, 0.0, 0.17906, 0.17906], [0.5, 0.0, 0.0, 0.42391, 0.0, 0.03804, 0.03804], [0.5, 0.0, 0.0, 0.47877, 0.0, 0.01061, 0.01061], [0.5, 0.0, 0.0, 0.2348, 0.0, 0.1326, 0.1326], [0.5, 0.0, 0.0, 0.01068, 0.0, 0.24466, 0.24466], [0.5, 0.0, 0.0, 0.09917999999999999, 0.0, 0.20040999999999998, 0.20040999999999998], [0.5, 0.0, 0.0, 0.38469000000000003, 0.0, 0.05766, 0.05766]], \"type\": \"surface\", \"uid\": \"4132acf0-de22-4b97-b91e-11dee8da5166\"}], {\"autosize\": false, \"height\": 650, \"margin\": {\"b\": 0, \"l\": 0, \"pad\": 50, \"r\": 0, \"t\": 35}, \"plot_bgcolor\": \"#AAA\", \"scene\": {\"aspectratio\": {\"x\": 1, \"y\": 5.0, \"z\": 1}, \"camera\": {\"center\": {\"x\": 0, \"y\": 0, \"z\": 0.2}, \"eye\": {\"x\": 3.75, \"y\": 3.75, \"z\": 3.75}, \"up\": {\"x\": 0, \"y\": 0, \"z\": 1}}, \"xaxis\": {\"autorange\": true, \"showgrid\": false, \"showline\": false, \"tickfont\": {\"size\": 14}, \"ticktext\": [\"\", \"\", \"\", \"\", \"\", \"\", \"\"], \"tickvals\": [0, 1, 2, 3, 4, 5, 6], \"title\": \"states\", \"titlefont\": {\"size\": 18}}, \"yaxis\": {\"autorange\": true, \"linewidth\": 1, \"tickfont\": {\"size\": 14}, \"ticktext\": [0.0, 10.0, 20.0, 30.0, 40.0, 50.0], \"tickvals\": [0.0, 5.0, 10.0, 15.0, 20.0, 25.0], \"title\": \"time,  ns\\t\\t\\t\\t.\", \"titlefont\": {\"size\": 18}}, \"zaxis\": {\"autorange\": true, \"linewidth\": 1, \"range\": [0, 1], \"tickfont\": {\"size\": 14}, \"title\": \"prob.\\t\\t\\t\\t\\t\\t.\", \"titlefont\": {\"size\": 18}}}, \"showlegend\": false, \"title\": \"<b>n = 2<br><br>w<sub>c</sub> = 21.506 GHz<br>w<sub>a</sub> = 21.506 GHz<br> g/hw<sub>c</sub> = 0.01<br><br></b>\", \"titlefont\": {\"color\": \"#222\", \"family\": \"Lato\", \"size\": 20}, \"width\": 950, \"xaxis\": {\"tickfont\": {\"size\": 200}, \"ticks\": \"outside\"}, \"yaxis\": {\"tickfont\": {\"size\": 200}, \"ticks\": \"outside\", \"title\": \"y Axis\", \"titlefont\": {\"color\": \"#FFFFFF\", \"family\": \"Courier New, monospace\", \"size\": 40}}}, {\"showLink\": true, \"linkText\": \"Export to plot.ly\", \"plotlyServerURL\": \"https://plot.ly\"})});</script>"
      ]
     },
     "metadata": {},
     "output_type": "display_data"
    }
   ],
   "source": [
    "from PyQuantum.Common.PyPlot import PlotBuilder\n",
    "\n",
    "plt = PlotBuilder()\n",
    "\n",
    "plt.set_width(950)\n",
    "plt.set_height(650)\n",
    "\n",
    "# ---------------------------------------------- TITLE --------------------------------------------\n",
    "title = \"\"\n",
    "title += \"<b>\"\n",
    "title += \"n = \" + str(config.n)\n",
    "if config.capacity - config.n > 0:\n",
    "    title += \"<br>\" + str(config.capacity - config.n) + \\\n",
    "        \" фотонов в полости\"\n",
    "# else:\n",
    "# title += \"<br>\" + \"empty cavity\"\n",
    "\n",
    "# title += \"<br>atoms state: |Ψ<sub>0</sub> i = |11...1>A<sub>0</sub> |00...0>A<sub>1</sub> |vaki<sub>p</sub>\" + \\\n",
    "#     str(config.init_state)\n",
    "title += \"<br>\"\n",
    "title += \"<br>w<sub>c</sub> = \" + wc_str(config.wc)\n",
    "title += \"<br>w<sub>a</sub> = \" + wa_str(config.wa)\n",
    "title += \"<br> g/hw<sub>c</sub> = \" + str(config.g/config.wc)\n",
    "title += \"<br>\"\n",
    "title += \"<br>\"\n",
    "title += \"</b>\"\n",
    "\n",
    "plt.set_title(title)\n",
    "# ---------------------------------------------- TITLE --------------------------------------------\n",
    "\n",
    "# ---------------------------------------------- SCALE --------------------------------------------\n",
    "y_scale = 1\n",
    "\n",
    "if config.T < 0.25 * config.mks:\n",
    "    y_scale = 0.1\n",
    "elif config.T <= 0.5 * config.mks:\n",
    "    y_scale = 0.025\n",
    "elif config.T == 0.5 * config.mks:\n",
    "    y_scale = 0.01\n",
    "elif config.T == 1 * config.mks:\n",
    "    y_scale = 7.5\n",
    "    # y_scale = 10\n",
    "elif config.T == 5 * config.mks:\n",
    "    y_scale = 1\n",
    "\n",
    "plt.set_yscale(y_scale)\n",
    "\n",
    "plt.set_xaxis(\"states\")\n",
    "plt.set_yaxis(\"time, \" + T_str_mark(config.T))\n",
    "plt.set_zaxis(\"prob.\\t\\t\\t\\t\\t\\t.\")\n",
    "# ---------------------------------------------- SCALE --------------------------------------------\n",
    "\n",
    "# -------------------------------------------------------------------------------------------------\n",
    "plt.PyPlot3D(\n",
    "    x_csv=config.path + \"/\" + \"x.csv\",\n",
    "    y_csv=config.path + \"/\" + \"t.csv\",\n",
    "    z_csv=config.path + \"/\" + \"z.csv\",\n",
    "    # t_coeff=20000 / 1000 * (config.T / 1e-6),\n",
    "    online=False,\n",
    "    path=config.path,\n",
    "    filename=\"Bipartite\",\n",
    ")\n",
    "# -------------------------------------------------------------------------------------------------"
   ]
  }
 ],
 "metadata": {
  "kernelspec": {
   "display_name": "Python 3",
   "language": "python",
   "name": "python3"
  },
  "language_info": {
   "codemirror_mode": {
    "name": "ipython",
    "version": 3
   },
   "file_extension": ".py",
   "mimetype": "text/x-python",
   "name": "python",
   "nbconvert_exporter": "python",
   "pygments_lexer": "ipython3",
   "version": "3.6.7"
  }
 },
 "nbformat": 4,
 "nbformat_minor": 2
}
