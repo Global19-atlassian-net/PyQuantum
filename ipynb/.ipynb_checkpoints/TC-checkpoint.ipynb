{
 "cells": [
  {
   "cell_type": "code",
   "execution_count": 1,
   "metadata": {},
   "outputs": [],
   "source": [
    "# TC\n",
    "from PyQuantum.TC.Cavity import Cavity\n",
    "from PyQuantum.TC.Hamiltonian import Hamiltonian\n",
    "\n",
    "from PyQuantum.TC.WaveFunction import WaveFunction\n",
    "\n",
    "from PyQuantum.TC.Evolution import run_wf"
   ]
  },
  {
   "cell_type": "code",
   "execution_count": 2,
   "metadata": {},
   "outputs": [],
   "source": [
    "# Common\n",
    "from PyQuantum.Common.LoadPackage import *\n",
    "from PyQuantum.Common.STR import *\n",
    "\n",
    "from PyQuantum.Common.Tools import mkdir\n",
    "from PyQuantum.Common.Print import *\n",
    "\n",
    "# from PyQuantum.Common.PyPlot import PyPlot3D\n",
    "from PyQuantum.TC.PlotBuilder3D import PlotBuilder3D\n",
    "\n",
    "# from shutil import copyfile\n",
    "# from numpy.random import rand"
   ]
  },
  {
   "cell_type": "code",
   "execution_count": 4,
   "metadata": {},
   "outputs": [],
   "source": [
    "config = load_pkg(\"config\", \"../PyQuantum/TC/config.py\")\n",
    "\n",
    "mkdir(config.path)\n",
    "# copyfile(\"PyQuantum/TC/config.py\", config.path + '/config.py')"
   ]
  },
  {
   "cell_type": "code",
   "execution_count": 9,
   "metadata": {},
   "outputs": [
    {
     "name": "stdout",
     "output_type": "stream",
     "text": [
      "\u001b[1;36;1mCavity:\u001b[1;32;0m\n",
      "\u001b[1;33;1mwc: \u001b[1;32;0m21.506 GHz\n",
      "\n",
      "\u001b[1;33;1mwa: \u001b[1;32;0m21.506 GHz\n",
      "\n",
      "\u001b[1;33;1m g: \u001b[1;32;0m2.151 GHz\n",
      "\n",
      "\u001b[1;33;1m n_atoms: \u001b[1;32;0m2\n",
      "\n"
     ]
    }
   ],
   "source": [
    "cavity = Cavity(\n",
    "    wc=config.wc,\n",
    "    wa=config.wa,\n",
    "    g=config.g,\n",
    "    n_atoms=config.n_atoms,\n",
    "    n_levels=config.n_levels\n",
    ")\n",
    "\n",
    "cavity.print()"
   ]
  },
  {
   "cell_type": "code",
   "execution_count": 10,
   "metadata": {},
   "outputs": [
    {
     "name": "stdout",
     "output_type": "stream",
     "text": [
      "T: 4.9999999999999996e-05\n",
      "nt: 5000\n",
      "dt: 9.999999999999999e-09\n",
      "\n"
     ]
    }
   ],
   "source": [
    "print(\"T:\", config.T)\n",
    "print(\"nt:\", config.nt)\n",
    "print(\"dt:\", config.dt)\n",
    "\n",
    "print()"
   ]
  },
  {
   "cell_type": "code",
   "execution_count": 11,
   "metadata": {},
   "outputs": [
    {
     "data": {
      "text/html": [
       "<div>\n",
       "<style scoped>\n",
       "    .dataframe tbody tr th:only-of-type {\n",
       "        vertical-align: middle;\n",
       "    }\n",
       "\n",
       "    .dataframe tbody tr th {\n",
       "        vertical-align: top;\n",
       "    }\n",
       "\n",
       "    .dataframe thead th {\n",
       "        text-align: right;\n",
       "    }\n",
       "</style>\n",
       "<table border=\"1\" class=\"dataframe\">\n",
       "  <thead>\n",
       "    <tr style=\"text-align: right;\">\n",
       "      <th></th>\n",
       "      <th>0</th>\n",
       "      <th>1</th>\n",
       "      <th>2</th>\n",
       "      <th>3</th>\n",
       "      <th>4</th>\n",
       "      <th>5</th>\n",
       "    </tr>\n",
       "  </thead>\n",
       "  <tbody>\n",
       "    <tr>\n",
       "      <th>0</th>\n",
       "      <td>86.024 GHz</td>\n",
       "      <td>0.0 Hz</td>\n",
       "      <td>0.0 Hz</td>\n",
       "      <td>4.301 GHz</td>\n",
       "      <td>0.0 Hz</td>\n",
       "      <td>0.0 Hz</td>\n",
       "    </tr>\n",
       "    <tr>\n",
       "      <th>1</th>\n",
       "      <td>0.0 Hz</td>\n",
       "      <td>43.012 GHz</td>\n",
       "      <td>0.0 Hz</td>\n",
       "      <td>2.151 GHz</td>\n",
       "      <td>2.151 GHz</td>\n",
       "      <td>0.0 Hz</td>\n",
       "    </tr>\n",
       "    <tr>\n",
       "      <th>2</th>\n",
       "      <td>0.0 Hz</td>\n",
       "      <td>0.0 Hz</td>\n",
       "      <td>86.024 GHz</td>\n",
       "      <td>0.0 Hz</td>\n",
       "      <td>4.301 GHz</td>\n",
       "      <td>0.0 Hz</td>\n",
       "    </tr>\n",
       "    <tr>\n",
       "      <th>3</th>\n",
       "      <td>4.301 GHz</td>\n",
       "      <td>2.151 GHz</td>\n",
       "      <td>0.0 Hz</td>\n",
       "      <td>43.012 GHz</td>\n",
       "      <td>0.0 Hz</td>\n",
       "      <td>3.041 GHz</td>\n",
       "    </tr>\n",
       "    <tr>\n",
       "      <th>4</th>\n",
       "      <td>0.0 Hz</td>\n",
       "      <td>2.151 GHz</td>\n",
       "      <td>4.301 GHz</td>\n",
       "      <td>0.0 Hz</td>\n",
       "      <td>43.012 GHz</td>\n",
       "      <td>3.041 GHz</td>\n",
       "    </tr>\n",
       "    <tr>\n",
       "      <th>5</th>\n",
       "      <td>0.0 Hz</td>\n",
       "      <td>0.0 Hz</td>\n",
       "      <td>0.0 Hz</td>\n",
       "      <td>3.041 GHz</td>\n",
       "      <td>3.041 GHz</td>\n",
       "      <td>43.012 GHz</td>\n",
       "    </tr>\n",
       "  </tbody>\n",
       "</table>\n",
       "</div>"
      ],
      "text/plain": [
       "            0           1           2           3           4           5\n",
       "0  86.024 GHz      0.0 Hz      0.0 Hz   4.301 GHz      0.0 Hz      0.0 Hz\n",
       "1      0.0 Hz  43.012 GHz      0.0 Hz   2.151 GHz   2.151 GHz      0.0 Hz\n",
       "2      0.0 Hz      0.0 Hz  86.024 GHz      0.0 Hz   4.301 GHz      0.0 Hz\n",
       "3   4.301 GHz   2.151 GHz      0.0 Hz  43.012 GHz      0.0 Hz   3.041 GHz\n",
       "4      0.0 Hz   2.151 GHz   4.301 GHz      0.0 Hz  43.012 GHz   3.041 GHz\n",
       "5      0.0 Hz      0.0 Hz      0.0 Hz   3.041 GHz   3.041 GHz  43.012 GHz"
      ]
     },
     "execution_count": 11,
     "metadata": {},
     "output_type": "execute_result"
    }
   ],
   "source": [
    "H = Hamiltonian(\n",
    "    capacity=config.capacity,\n",
    "    cavity=cavity,\n",
    "    RWA=True,\n",
    "    reduced=True\n",
    ")\n",
    "\n",
    "H.iprint()\n",
    "H.df"
   ]
  },
  {
   "cell_type": "code",
   "execution_count": 12,
   "metadata": {},
   "outputs": [
    {
     "name": "stdout",
     "output_type": "stream",
     "text": [
      "[0, [0, 2]] (1+0j)\n",
      "[0, [1, 1]] 0j\n",
      "[0, [2, 0]] 0j\n",
      "[1, [0, 1]] 0j\n",
      "[1, [1, 0]] 0j\n",
      "[2, [0, 0]] 0j\n"
     ]
    }
   ],
   "source": [
    "w_0 = WaveFunction(states=H.states, init_state=config.init_state)\n",
    "\n",
    "w_0.print()"
   ]
  },
  {
   "cell_type": "code",
   "execution_count": 13,
   "metadata": {},
   "outputs": [
    {
     "name": "stdout",
     "output_type": "stream",
     "text": [
      "{0, 2}\n",
      "{0: [0, [0, 2]], 1: [0, [1, 1]], 2: [0, [2, 0]], 3: [1, [0, 1]], 4: [1, [1, 0]], 5: [2, [0, 0]]}\n"
     ]
    }
   ],
   "source": [
    "run_wf(\n",
    "    w_0=w_0,\n",
    "    H=H,\n",
    "    dt=config.dt,\n",
    "    nt=config.nt,\n",
    "    config=config,\n",
    "    fidelity_mode=True\n",
    ")"
   ]
  },
  {
   "cell_type": "code",
   "execution_count": null,
   "metadata": {},
   "outputs": [],
   "source": [
    "plt = PlotBuilder3D()\n",
    "\n",
    "plt.set_width(950)\n",
    "plt.set_height(800)\n",
    "\n",
    "title = \"\"\n",
    "\n",
    "if config.capacity - config.n_atoms > 0:\n",
    "    title += \"<b>\" + str(config.capacity - config.n) + \\\n",
    "        \" фотонов в полости\" + \"</b>\" + \"<br><br>\"\n",
    "else:\n",
    "    title += \"<b>\" + \"empty cavity\" + \"</b>\" + \"<br><br>\"\n",
    "\n",
    "title += \"<b>\"\n",
    "title += \"n_atoms = \" + str(config.n_atoms)\n",
    "\n",
    "title += \"<br>\"\n",
    "title += \"<br>w<sub>c</sub> = \" + wc_str(config.wc)\n",
    "title += \"<br>w<sub>a</sub> = \" + wa_str(config.wa)\n",
    "title += \"<br><br> g/hw<sub>c</sub> = \" + str(config.g/config.wc)\n",
    "title += \"<br>\"\n",
    "title += \"<br>\"\n",
    "title += \"</b>\"\n",
    "\n",
    "plt.set_title(title)\n",
    "\n",
    "y_scale = 1\n",
    "\n",
    "if config.T < 0.25 * config.mks:\n",
    "    y_scale = 0.1\n",
    "elif config.T <= 0.5 * config.mks:\n",
    "    y_scale = 0.025\n",
    "elif config.T == 0.5 * config.mks:\n",
    "    y_scale = 0.01\n",
    "elif config.T == 1 * config.mks:\n",
    "    y_scale = 7.5\n",
    "    # y_scale = 10\n",
    "elif config.T == 5 * config.mks:\n",
    "    y_scale = 1\n",
    "\n",
    "plt.set_yscale(y_scale)\n",
    "\n",
    "plt.set_xaxis(\"states\")\n",
    "plt.set_yaxis(\"time, \" + T_str_mark(config.T))\n",
    "plt.set_zaxis(\"prob.\\t\\t\\t\\t\\t\\t.\")\n",
    "\n",
    "plt.iplot(\n",
    "    x_csv=config.x_csv,\n",
    "    y_csv=config.y_csv,\n",
    "    z_csv=config.z_csv,\n",
    "    filename=\"tc_wf\"\n",
    ")"
   ]
  }
 ],
 "metadata": {
  "kernelspec": {
   "display_name": "Python 3",
   "language": "python",
   "name": "python3"
  },
  "language_info": {
   "codemirror_mode": {
    "name": "ipython",
    "version": 3
   },
   "file_extension": ".py",
   "mimetype": "text/x-python",
   "name": "python",
   "nbconvert_exporter": "python",
   "pygments_lexer": "ipython3",
   "version": "3.6.7"
  }
 },
 "nbformat": 4,
 "nbformat_minor": 2
}
