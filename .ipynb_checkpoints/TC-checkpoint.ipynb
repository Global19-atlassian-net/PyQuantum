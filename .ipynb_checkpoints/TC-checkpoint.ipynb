{
 "cells": [
  {
   "cell_type": "code",
   "execution_count": 1,
   "metadata": {},
   "outputs": [],
   "source": [
    "# TC\n",
    "from PyQuantum.TC.Cavity import Cavity\n",
    "from PyQuantum.TC.Hamiltonian import Hamiltonian\n",
    "\n",
    "from PyQuantum.TC.WaveFunction import WaveFunction\n",
    "\n",
    "from PyQuantum.TC.Evolution import run_wf"
   ]
  },
  {
   "cell_type": "code",
   "execution_count": 2,
   "metadata": {},
   "outputs": [],
   "source": [
    "# Common\n",
    "from PyQuantum.Common.LoadPackage import *\n",
    "from PyQuantum.Common.STR import *\n",
    "\n",
    "from PyQuantum.Common.Tools import mkdir\n",
    "from PyQuantum.Common.Print import *\n",
    "from PyQuantum.Common.PyPlot import PyPlot3D\n",
    "\n",
    "# from shutil import copyfile\n",
    "# from numpy.random import rand"
   ]
  },
  {
   "cell_type": "code",
   "execution_count": 3,
   "metadata": {},
   "outputs": [],
   "source": [
    "config = load_pkg(\"config\", \"PyQuantum/TC/config.py\")\n",
    "\n",
    "mkdir(config.path)\n",
    "# copyfile(\"PyQuantum/TC/config.py\", config.path + '/config.py')"
   ]
  },
  {
   "cell_type": "code",
   "execution_count": 4,
   "metadata": {},
   "outputs": [
    {
     "name": "stdout",
     "output_type": "stream",
     "text": [
      "\n",
      "\u001b[1;36;1mCavity:\u001b[1;32;0m\n",
      "\u001b[1;33;1mwc: \u001b[1;32;0m21.506 GHz\n",
      "\n",
      "\u001b[1;33;1mwa: \u001b[1;32;0m21.506 GHz\n",
      "\n",
      "\u001b[1;33;1m g: \u001b[1;32;0m215.06 MHz\n",
      "\n",
      "\u001b[1;33;1m n_atoms: \u001b[1;32;0m2\n",
      "\n",
      "\n"
     ]
    }
   ],
   "source": [
    "cavity = Cavity(wc=config.wc, wa=config.wa, g=config.g,\n",
    "                n_atoms=config.n_atoms, n_levels=config.n_levels)\n",
    "\n",
    "print()\n",
    "\n",
    "cavity.print()"
   ]
  },
  {
   "cell_type": "code",
   "execution_count": 5,
   "metadata": {},
   "outputs": [
    {
     "name": "stdout",
     "output_type": "stream",
     "text": [
      "T: 5e-08\n",
      "nt: 25\n",
      "dt: 1.9999999999999997e-09\n",
      "\n"
     ]
    }
   ],
   "source": [
    "print(\"T:\", config.T)\n",
    "print(\"nt:\", config.nt)\n",
    "print(\"dt:\", config.dt)\n",
    "\n",
    "print()"
   ]
  },
  {
   "cell_type": "code",
   "execution_count": 6,
   "metadata": {},
   "outputs": [
    {
     "name": "stdout",
     "output_type": "stream",
     "text": [
      "[0, [0, 2]]\n",
      "[0, [1, 1]]\n",
      "[0, [2, 0]]\n",
      "[1, [0, 1]]\n",
      "[1, [1, 0]]\n",
      "[2, [0, 0]]\n",
      "\n",
      "[0, [0, 1]]\n",
      "[0, [1, 0]]\n",
      "[1, [0, 0]]\n",
      "\n",
      "[0, [0, 0]]\n",
      "\n"
     ]
    },
    {
     "data": {
      "text/html": [
       "<div>\n",
       "<style scoped>\n",
       "    .dataframe tbody tr th:only-of-type {\n",
       "        vertical-align: middle;\n",
       "    }\n",
       "\n",
       "    .dataframe tbody tr th {\n",
       "        vertical-align: top;\n",
       "    }\n",
       "\n",
       "    .dataframe thead th {\n",
       "        text-align: right;\n",
       "    }\n",
       "</style>\n",
       "<table border=\"1\" class=\"dataframe\">\n",
       "  <thead>\n",
       "    <tr style=\"text-align: right;\">\n",
       "      <th></th>\n",
       "      <th>[0, [0, 2]]</th>\n",
       "      <th>[0, [1, 1]]</th>\n",
       "      <th>[0, [2, 0]]</th>\n",
       "      <th>[1, [0, 1]]</th>\n",
       "      <th>[1, [1, 0]]</th>\n",
       "      <th>[2, [0, 0]]</th>\n",
       "      <th>[0, [0, 1]]</th>\n",
       "      <th>[0, [1, 0]]</th>\n",
       "      <th>[1, [0, 0]]</th>\n",
       "      <th>[0, [0, 0]]</th>\n",
       "    </tr>\n",
       "  </thead>\n",
       "  <tbody>\n",
       "    <tr>\n",
       "      <th>[0, [0, 2]]</th>\n",
       "      <td>86.024 GHz</td>\n",
       "      <td>0.0 Hz</td>\n",
       "      <td>0.0 Hz</td>\n",
       "      <td>430.12 MHz</td>\n",
       "      <td>0.0 Hz</td>\n",
       "      <td>0.0 Hz</td>\n",
       "      <td>0.0 Hz</td>\n",
       "      <td>0.0 Hz</td>\n",
       "      <td>0.0 Hz</td>\n",
       "      <td>0.0 Hz</td>\n",
       "    </tr>\n",
       "    <tr>\n",
       "      <th>[0, [1, 1]]</th>\n",
       "      <td>0.0 Hz</td>\n",
       "      <td>43.012 GHz</td>\n",
       "      <td>0.0 Hz</td>\n",
       "      <td>215.06 MHz</td>\n",
       "      <td>215.06 MHz</td>\n",
       "      <td>0.0 Hz</td>\n",
       "      <td>0.0 Hz</td>\n",
       "      <td>0.0 Hz</td>\n",
       "      <td>0.0 Hz</td>\n",
       "      <td>0.0 Hz</td>\n",
       "    </tr>\n",
       "    <tr>\n",
       "      <th>[0, [2, 0]]</th>\n",
       "      <td>0.0 Hz</td>\n",
       "      <td>0.0 Hz</td>\n",
       "      <td>86.024 GHz</td>\n",
       "      <td>0.0 Hz</td>\n",
       "      <td>430.12 MHz</td>\n",
       "      <td>0.0 Hz</td>\n",
       "      <td>0.0 Hz</td>\n",
       "      <td>0.0 Hz</td>\n",
       "      <td>0.0 Hz</td>\n",
       "      <td>0.0 Hz</td>\n",
       "    </tr>\n",
       "    <tr>\n",
       "      <th>[1, [0, 1]]</th>\n",
       "      <td>430.12 MHz</td>\n",
       "      <td>215.06 MHz</td>\n",
       "      <td>0.0 Hz</td>\n",
       "      <td>43.012 GHz</td>\n",
       "      <td>0.0 Hz</td>\n",
       "      <td>304.141 MHz</td>\n",
       "      <td>0.0 Hz</td>\n",
       "      <td>0.0 Hz</td>\n",
       "      <td>0.0 Hz</td>\n",
       "      <td>0.0 Hz</td>\n",
       "    </tr>\n",
       "    <tr>\n",
       "      <th>[1, [1, 0]]</th>\n",
       "      <td>0.0 Hz</td>\n",
       "      <td>215.06 MHz</td>\n",
       "      <td>430.12 MHz</td>\n",
       "      <td>0.0 Hz</td>\n",
       "      <td>43.012 GHz</td>\n",
       "      <td>304.141 MHz</td>\n",
       "      <td>0.0 Hz</td>\n",
       "      <td>0.0 Hz</td>\n",
       "      <td>0.0 Hz</td>\n",
       "      <td>0.0 Hz</td>\n",
       "    </tr>\n",
       "    <tr>\n",
       "      <th>[2, [0, 0]]</th>\n",
       "      <td>0.0 Hz</td>\n",
       "      <td>0.0 Hz</td>\n",
       "      <td>0.0 Hz</td>\n",
       "      <td>304.141 MHz</td>\n",
       "      <td>304.141 MHz</td>\n",
       "      <td>43.012 GHz</td>\n",
       "      <td>0.0 Hz</td>\n",
       "      <td>0.0 Hz</td>\n",
       "      <td>0.0 Hz</td>\n",
       "      <td>0.0 Hz</td>\n",
       "    </tr>\n",
       "    <tr>\n",
       "      <th>[0, [0, 1]]</th>\n",
       "      <td>0.0 Hz</td>\n",
       "      <td>0.0 Hz</td>\n",
       "      <td>0.0 Hz</td>\n",
       "      <td>0.0 Hz</td>\n",
       "      <td>0.0 Hz</td>\n",
       "      <td>0.0 Hz</td>\n",
       "      <td>21.506 GHz</td>\n",
       "      <td>0.0 Hz</td>\n",
       "      <td>215.06 MHz</td>\n",
       "      <td>0.0 Hz</td>\n",
       "    </tr>\n",
       "    <tr>\n",
       "      <th>[0, [1, 0]]</th>\n",
       "      <td>0.0 Hz</td>\n",
       "      <td>0.0 Hz</td>\n",
       "      <td>0.0 Hz</td>\n",
       "      <td>0.0 Hz</td>\n",
       "      <td>0.0 Hz</td>\n",
       "      <td>0.0 Hz</td>\n",
       "      <td>0.0 Hz</td>\n",
       "      <td>21.506 GHz</td>\n",
       "      <td>215.06 MHz</td>\n",
       "      <td>0.0 Hz</td>\n",
       "    </tr>\n",
       "    <tr>\n",
       "      <th>[1, [0, 0]]</th>\n",
       "      <td>0.0 Hz</td>\n",
       "      <td>0.0 Hz</td>\n",
       "      <td>0.0 Hz</td>\n",
       "      <td>0.0 Hz</td>\n",
       "      <td>0.0 Hz</td>\n",
       "      <td>0.0 Hz</td>\n",
       "      <td>215.06 MHz</td>\n",
       "      <td>215.06 MHz</td>\n",
       "      <td>21.506 GHz</td>\n",
       "      <td>0.0 Hz</td>\n",
       "    </tr>\n",
       "    <tr>\n",
       "      <th>[0, [0, 0]]</th>\n",
       "      <td>0.0 Hz</td>\n",
       "      <td>0.0 Hz</td>\n",
       "      <td>0.0 Hz</td>\n",
       "      <td>0.0 Hz</td>\n",
       "      <td>0.0 Hz</td>\n",
       "      <td>0.0 Hz</td>\n",
       "      <td>0.0 Hz</td>\n",
       "      <td>0.0 Hz</td>\n",
       "      <td>0.0 Hz</td>\n",
       "      <td>0.0 Hz</td>\n",
       "    </tr>\n",
       "  </tbody>\n",
       "</table>\n",
       "</div>"
      ],
      "text/plain": [
       "            [0, [0, 2]] [0, [1, 1]] [0, [2, 0]]  [1, [0, 1]]  [1, [1, 0]]  \\\n",
       "[0, [0, 2]]  86.024 GHz      0.0 Hz      0.0 Hz   430.12 MHz       0.0 Hz   \n",
       "[0, [1, 1]]      0.0 Hz  43.012 GHz      0.0 Hz   215.06 MHz   215.06 MHz   \n",
       "[0, [2, 0]]      0.0 Hz      0.0 Hz  86.024 GHz       0.0 Hz   430.12 MHz   \n",
       "[1, [0, 1]]  430.12 MHz  215.06 MHz      0.0 Hz   43.012 GHz       0.0 Hz   \n",
       "[1, [1, 0]]      0.0 Hz  215.06 MHz  430.12 MHz       0.0 Hz   43.012 GHz   \n",
       "[2, [0, 0]]      0.0 Hz      0.0 Hz      0.0 Hz  304.141 MHz  304.141 MHz   \n",
       "[0, [0, 1]]      0.0 Hz      0.0 Hz      0.0 Hz       0.0 Hz       0.0 Hz   \n",
       "[0, [1, 0]]      0.0 Hz      0.0 Hz      0.0 Hz       0.0 Hz       0.0 Hz   \n",
       "[1, [0, 0]]      0.0 Hz      0.0 Hz      0.0 Hz       0.0 Hz       0.0 Hz   \n",
       "[0, [0, 0]]      0.0 Hz      0.0 Hz      0.0 Hz       0.0 Hz       0.0 Hz   \n",
       "\n",
       "             [2, [0, 0]] [0, [0, 1]] [0, [1, 0]] [1, [0, 0]] [0, [0, 0]]  \n",
       "[0, [0, 2]]       0.0 Hz      0.0 Hz      0.0 Hz      0.0 Hz      0.0 Hz  \n",
       "[0, [1, 1]]       0.0 Hz      0.0 Hz      0.0 Hz      0.0 Hz      0.0 Hz  \n",
       "[0, [2, 0]]       0.0 Hz      0.0 Hz      0.0 Hz      0.0 Hz      0.0 Hz  \n",
       "[1, [0, 1]]  304.141 MHz      0.0 Hz      0.0 Hz      0.0 Hz      0.0 Hz  \n",
       "[1, [1, 0]]  304.141 MHz      0.0 Hz      0.0 Hz      0.0 Hz      0.0 Hz  \n",
       "[2, [0, 0]]   43.012 GHz      0.0 Hz      0.0 Hz      0.0 Hz      0.0 Hz  \n",
       "[0, [0, 1]]       0.0 Hz  21.506 GHz      0.0 Hz  215.06 MHz      0.0 Hz  \n",
       "[0, [1, 0]]       0.0 Hz      0.0 Hz  21.506 GHz  215.06 MHz      0.0 Hz  \n",
       "[1, [0, 0]]       0.0 Hz  215.06 MHz  215.06 MHz  21.506 GHz      0.0 Hz  \n",
       "[0, [0, 0]]       0.0 Hz      0.0 Hz      0.0 Hz      0.0 Hz      0.0 Hz  "
      ]
     },
     "execution_count": 6,
     "metadata": {},
     "output_type": "execute_result"
    }
   ],
   "source": [
    "H = HamiltonianL(capacity=config.capacity,\n",
    "                cavity=cavity, RWA=False, reduced=True)\n",
    "\n",
    "H.iprint()\n",
    "H.df"
   ]
  },
  {
   "cell_type": "code",
   "execution_count": 7,
   "metadata": {},
   "outputs": [
    {
     "name": "stdout",
     "output_type": "stream",
     "text": [
      "[0, [0, 2]] 0j\n",
      "[0, [1, 1]] 0j\n",
      "[0, [2, 0]] 0j\n",
      "[1, [0, 1]] (1+0j)\n",
      "[1, [1, 0]] 0j\n",
      "[2, [0, 0]] 0j\n",
      "[0, [0, 1]] 0j\n",
      "[0, [1, 0]] 0j\n",
      "[1, [0, 0]] 0j\n",
      "[0, [0, 0]] 0j\n"
     ]
    }
   ],
   "source": [
    "w_0 = WaveFunction(states=H.states, init_state=config.init_state)\n",
    "\n",
    "w_0.print()"
   ]
  },
  {
   "cell_type": "code",
   "execution_count": 8,
   "metadata": {},
   "outputs": [],
   "source": [
    "run_wf(w_0=w_0, H=H, dt=config.dt, nt=config.nt,\n",
    "       config=config, fidelity_mode=True)"
   ]
  },
  {
   "cell_type": "code",
   "execution_count": 10,
   "metadata": {},
   "outputs": [
    {
     "name": "stdout",
     "output_type": "stream",
     "text": [
      "Making plot...\n",
      "x_ticktext: ['', '[1, 1]', '', '[0, 1]', '[1, 0]', '[0, 0]', '', '', '', '']\n",
      "x_tickvals: [0, 1, 2, 3, 4, 5, 6, 7, 8, 9]\n",
      "y_ticktext: [0.0, 5.0, 10.0, 15.0, 20.0, 25.0, 30.0, 35.0, 40.0, 45.0, 50.0]\n",
      "y_tickvals: [ 0.   2.5  5.   7.5 10.  12.5 15.  17.5 20.  22.5 25. ]\n"
     ]
    },
    {
     "data": {
      "text/html": [
       "<script type=\"text/javascript\">window.PlotlyConfig = {MathJaxConfig: 'local'};</script><script type=\"text/javascript\">if (window.MathJax) {MathJax.Hub.Config({SVG: {font: \"STIX-Web\"}});}</script><script>requirejs.config({paths: { 'plotly': ['https://cdn.plot.ly/plotly-latest.min']},});if(!window._Plotly) {require(['plotly'],function(plotly) {window._Plotly=plotly;});}</script>"
      ],
      "text/vnd.plotly.v1+html": [
       "<script type=\"text/javascript\">window.PlotlyConfig = {MathJaxConfig: 'local'};</script><script type=\"text/javascript\">if (window.MathJax) {MathJax.Hub.Config({SVG: {font: \"STIX-Web\"}});}</script><script>requirejs.config({paths: { 'plotly': ['https://cdn.plot.ly/plotly-latest.min']},});if(!window._Plotly) {require(['plotly'],function(plotly) {window._Plotly=plotly;});}</script>"
      ]
     },
     "metadata": {},
     "output_type": "display_data"
    },
    {
     "data": {
      "application/vnd.plotly.v1+json": {
       "config": {
        "linkText": "Export to plot.ly",
        "plotlyServerURL": "https://plot.ly",
        "showLink": true
       },
       "data": [
        {
         "colorscale": "Portland",
         "lighting": {
          "diffuse": 0.5,
          "fresnel": 0.2,
          "specular": 0.2
         },
         "showlegend": false,
         "showscale": false,
         "type": "surface",
         "uid": "458e562b-60a4-4d53-abee-408bc63340b3",
         "z": [
          [
           0,
           0,
           0,
           1,
           0,
           0,
           0,
           0,
           0,
           0
          ],
          [
           0.00021,
           0.1259,
           1e-05,
           0.55823,
           0.06387000000000001,
           0.25179,
           0,
           0,
           0,
           0
          ],
          [
           0.00014,
           0.12314000000000001,
           5.9999999999999995e-05,
           0.05977999999999999,
           0.5705899999999999,
           0.24629,
           0,
           0,
           0,
           0
          ],
          [
           0.0001,
           5.9999999999999995e-05,
           0.0001,
           4e-05,
           0.9995799999999999,
           0.00011999999999999999,
           0,
           0,
           0,
           0
          ],
          [
           0.0001,
           0.12859,
           5e-05,
           0.06815,
           0.54594,
           0.25716999999999995,
           0,
           0,
           0,
           0
          ],
          [
           0.00031,
           0.12032999999999999,
           1e-05,
           0.5827,
           0.055979999999999995,
           0.24067,
           0,
           0,
           0,
           0
          ],
          [
           9e-05,
           0.00023999999999999998,
           0,
           0.99902,
           0.00016,
           0.00047999999999999996,
           0,
           0,
           0,
           0
          ],
          [
           5.9999999999999995e-05,
           0.13121,
           1e-05,
           0.53366,
           0.07263,
           0.26242,
           0,
           0,
           0,
           0
          ],
          [
           0.00015,
           0.11747,
           5.9999999999999995e-05,
           0.052329999999999995,
           0.59504,
           0.23494,
           0,
           0,
           0,
           0
          ],
          [
           0.0001,
           0.00054,
           0.0001,
           0.00037,
           0.9978100000000001,
           0.00108,
           0,
           0,
           0,
           0
          ],
          [
           5.9999999999999995e-05,
           0.13377,
           5e-05,
           0.0774,
           0.5211899999999999,
           0.26753000000000005,
           0,
           0,
           0,
           0
          ],
          [
           0.00027,
           0.11456,
           0,
           0.60706,
           0.04899,
           0.22912,
           0,
           0,
           0,
           0
          ],
          [
           0.00029,
           0.0009599999999999999,
           0,
           0.9961700000000001,
           0.00066,
           0.0019199999999999998,
           0,
           0,
           0,
           0
          ],
          [
           1e-05,
           0.13625,
           1e-05,
           0.5089600000000001,
           0.08227000000000001,
           0.2725,
           0,
           0,
           0,
           0
          ],
          [
           0.00011,
           0.1116,
           5.9999999999999995e-05,
           0.04582,
           0.61919,
           0.22321,
           0,
           0,
           0,
           0
          ],
          [
           0.0001,
           0.0015,
           0.0001,
           0.0010199999999999999,
           0.9942700000000001,
           0.003,
           0,
           0,
           0,
           0
          ],
          [
           5.9999999999999995e-05,
           0.13865999999999998,
           5e-05,
           0.08746,
           0.49645,
           0.27731,
           0,
           0,
           0,
           0
          ],
          [
           0.00011999999999999999,
           0.10860999999999998,
           0,
           0.63116,
           0.04289,
           0.21721,
           0,
           0,
           0,
           0
          ],
          [
           0.0004,
           0.00216,
           0,
           0.99165,
           0.00148,
           0.0043100000000000005,
           0,
           0,
           0,
           0
          ],
          [
           9e-05,
           0.14098,
           1e-05,
           0.48418,
           0.09277,
           0.28197,
           0,
           0,
           0,
           0
          ],
          [
           7e-05,
           0.10557000000000001,
           5.9999999999999995e-05,
           0.04021,
           0.64294,
           0.21114000000000002,
           0,
           0,
           0,
           0
          ],
          [
           0.0001,
           0.00293,
           0.0001,
           0.00202,
           0.989,
           0.00586,
           0,
           0,
           0,
           0
          ],
          [
           0.00011999999999999999,
           0.14323,
           5e-05,
           0.09833,
           0.47183,
           0.28645,
           0,
           0,
           0,
           0
          ],
          [
           1e-05,
           0.1025,
           0,
           0.65478,
           0.037689999999999994,
           0.20501,
           0,
           0,
           0,
           0
          ],
          [
           0.00032,
           0.0038200000000000005,
           0,
           0.98559,
           0.00263,
           0.007640000000000001,
           0,
           0,
           0,
           0
          ],
          [
           0.00022,
           0.14538,
           1e-05,
           0.45951000000000003,
           0.10411,
           0.29077,
           0,
           0,
           0,
           0
          ]
         ]
        }
       ],
       "layout": {
        "autosize": false,
        "height": 800,
        "plot_bgcolor": "#AAA",
        "scene": {
         "aspectratio": {
          "x": 1,
          "y": 5,
          "z": 1
         },
         "camera": {
          "center": {
           "x": 0,
           "y": 0,
           "z": 0.2
          },
          "eye": {
           "x": 3.75,
           "y": 3.75,
           "z": 3.75
          },
          "up": {
           "x": 0,
           "y": 0,
           "z": 1
          }
         },
         "xaxis": {
          "autorange": true,
          "showgrid": false,
          "showline": false,
          "tickfont": {
           "size": 14
          },
          "ticktext": [
           "",
           "[1, 1]",
           "",
           "[0, 1]",
           "[1, 0]",
           "[0, 0]",
           "",
           "",
           "",
           ""
          ],
          "tickvals": [
           0,
           1,
           2,
           3,
           4,
           5,
           6,
           7,
           8,
           9
          ],
          "title": "states",
          "titlefont": {
           "size": 18
          }
         },
         "yaxis": {
          "autorange": true,
          "linewidth": 1,
          "tickfont": {
           "size": 14
          },
          "ticktext": [
           0,
           10,
           20,
           30,
           40,
           50
          ],
          "tickvals": [
           0,
           5,
           10,
           15,
           20,
           25
          ],
          "title": "time,  ns\t\t\t\t.",
          "titlefont": {
           "size": 18
          }
         },
         "zaxis": {
          "autorange": true,
          "linewidth": 1,
          "range": [
           0,
           1
          ],
          "tickfont": {
           "size": 14
          },
          "title": "prob.\t\t\t\t\t\t.",
          "titlefont": {
           "size": 18
          }
         }
        },
        "showlegend": false,
        "title": "<b>empty cavity</b><br><br><b>n_atoms = 2<br><br>w<sub>c</sub> = 21.506 GHz<br>w<sub>a</sub> = 21.506 GHz<br><br> g/hw<sub>c</sub> = 0.01<br><br></b>",
        "titlefont": {
         "color": "#222",
         "family": "Lato",
         "size": 14
        },
        "width": 950,
        "xaxis": {
         "tickfont": {
          "size": 200
         },
         "ticks": "outside"
        },
        "yaxis": {
         "tickfont": {
          "size": 200
         },
         "ticks": "outside",
         "title": "y Axis",
         "titlefont": {
          "color": "#FFFFFF",
          "family": "Courier New, monospace",
          "size": 40
         }
        }
       }
      },
      "text/html": [
       "<div id=\"51873be6-648a-4846-b79f-6dd1b4ea5ead\" style=\"height: 800px; width: 950px;\" class=\"plotly-graph-div\"></div><script type=\"text/javascript\">require([\"plotly\"], function(Plotly) { window.PLOTLYENV=window.PLOTLYENV || {};window.PLOTLYENV.BASE_URL=\"https://plot.ly\";Plotly.newPlot(\"51873be6-648a-4846-b79f-6dd1b4ea5ead\", [{\"colorscale\": \"Portland\", \"lighting\": {\"diffuse\": 0.5, \"fresnel\": 0.2, \"specular\": 0.2}, \"showlegend\": false, \"showscale\": false, \"z\": [[0.0, 0.0, 0.0, 1.0, 0.0, 0.0, 0.0, 0.0, 0.0, 0.0], [0.00021, 0.1259, 1e-05, 0.55823, 0.06387000000000001, 0.25179, 0.0, 0.0, 0.0, 0.0], [0.00014, 0.12314000000000001, 5.9999999999999995e-05, 0.05977999999999999, 0.5705899999999999, 0.24629, 0.0, 0.0, 0.0, 0.0], [0.0001, 5.9999999999999995e-05, 0.0001, 4e-05, 0.9995799999999999, 0.00011999999999999999, 0.0, 0.0, 0.0, 0.0], [0.0001, 0.12859, 5e-05, 0.06815, 0.54594, 0.25716999999999995, 0.0, 0.0, 0.0, 0.0], [0.00031, 0.12032999999999999, 1e-05, 0.5827, 0.055979999999999995, 0.24067, 0.0, 0.0, 0.0, 0.0], [9e-05, 0.00023999999999999998, 0.0, 0.99902, 0.00016, 0.00047999999999999996, 0.0, 0.0, 0.0, 0.0], [5.9999999999999995e-05, 0.13121, 1e-05, 0.53366, 0.07263, 0.26242, 0.0, 0.0, 0.0, 0.0], [0.00015, 0.11747, 5.9999999999999995e-05, 0.052329999999999995, 0.59504, 0.23494, 0.0, 0.0, 0.0, 0.0], [0.0001, 0.00054, 0.0001, 0.00037, 0.9978100000000001, 0.00108, 0.0, 0.0, 0.0, 0.0], [5.9999999999999995e-05, 0.13377, 5e-05, 0.0774, 0.5211899999999999, 0.26753000000000005, 0.0, 0.0, 0.0, 0.0], [0.00027, 0.11456, 0.0, 0.60706, 0.04899, 0.22912, 0.0, 0.0, 0.0, 0.0], [0.00029, 0.0009599999999999999, 0.0, 0.9961700000000001, 0.00066, 0.0019199999999999998, 0.0, 0.0, 0.0, 0.0], [1e-05, 0.13625, 1e-05, 0.5089600000000001, 0.08227000000000001, 0.2725, 0.0, 0.0, 0.0, 0.0], [0.00011, 0.1116, 5.9999999999999995e-05, 0.04582, 0.61919, 0.22321, 0.0, 0.0, 0.0, 0.0], [0.0001, 0.0015, 0.0001, 0.0010199999999999999, 0.9942700000000001, 0.003, 0.0, 0.0, 0.0, 0.0], [5.9999999999999995e-05, 0.13865999999999998, 5e-05, 0.08746, 0.49645, 0.27731, 0.0, 0.0, 0.0, 0.0], [0.00011999999999999999, 0.10860999999999998, 0.0, 0.63116, 0.04289, 0.21721, 0.0, 0.0, 0.0, 0.0], [0.0004, 0.00216, 0.0, 0.99165, 0.00148, 0.0043100000000000005, 0.0, 0.0, 0.0, 0.0], [9e-05, 0.14098, 1e-05, 0.48418, 0.09277, 0.28197, 0.0, 0.0, 0.0, 0.0], [7e-05, 0.10557000000000001, 5.9999999999999995e-05, 0.04021, 0.64294, 0.21114000000000002, 0.0, 0.0, 0.0, 0.0], [0.0001, 0.00293, 0.0001, 0.00202, 0.989, 0.00586, 0.0, 0.0, 0.0, 0.0], [0.00011999999999999999, 0.14323, 5e-05, 0.09833, 0.47183, 0.28645, 0.0, 0.0, 0.0, 0.0], [1e-05, 0.1025, 0.0, 0.65478, 0.037689999999999994, 0.20501, 0.0, 0.0, 0.0, 0.0], [0.00032, 0.0038200000000000005, 0.0, 0.98559, 0.00263, 0.007640000000000001, 0.0, 0.0, 0.0, 0.0], [0.00022, 0.14538, 1e-05, 0.45951000000000003, 0.10411, 0.29077, 0.0, 0.0, 0.0, 0.0]], \"type\": \"surface\", \"uid\": \"458e562b-60a4-4d53-abee-408bc63340b3\"}], {\"autosize\": false, \"height\": 800, \"plot_bgcolor\": \"#AAA\", \"scene\": {\"aspectratio\": {\"x\": 1, \"y\": 5.0, \"z\": 1}, \"camera\": {\"center\": {\"x\": 0, \"y\": 0, \"z\": 0.2}, \"eye\": {\"x\": 3.75, \"y\": 3.75, \"z\": 3.75}, \"up\": {\"x\": 0, \"y\": 0, \"z\": 1}}, \"xaxis\": {\"autorange\": true, \"showgrid\": false, \"showline\": false, \"tickfont\": {\"size\": 14}, \"ticktext\": [\"\", \"[1, 1]\", \"\", \"[0, 1]\", \"[1, 0]\", \"[0, 0]\", \"\", \"\", \"\", \"\"], \"tickvals\": [0, 1, 2, 3, 4, 5, 6, 7, 8, 9], \"title\": \"states\", \"titlefont\": {\"size\": 18}}, \"yaxis\": {\"autorange\": true, \"linewidth\": 1, \"tickfont\": {\"size\": 14}, \"ticktext\": [0.0, 10.0, 20.0, 30.0, 40.0, 50.0], \"tickvals\": [0.0, 5.0, 10.0, 15.0, 20.0, 25.0], \"title\": \"time,  ns\\t\\t\\t\\t.\", \"titlefont\": {\"size\": 18}}, \"zaxis\": {\"autorange\": true, \"linewidth\": 1, \"range\": [0, 1], \"tickfont\": {\"size\": 14}, \"title\": \"prob.\\t\\t\\t\\t\\t\\t.\", \"titlefont\": {\"size\": 18}}}, \"showlegend\": false, \"title\": \"<b>empty cavity</b><br><br><b>n_atoms = 2<br><br>w<sub>c</sub> = 21.506 GHz<br>w<sub>a</sub> = 21.506 GHz<br><br> g/hw<sub>c</sub> = 0.01<br><br></b>\", \"titlefont\": {\"color\": \"#222\", \"family\": \"Lato\", \"size\": 14}, \"width\": 950, \"xaxis\": {\"tickfont\": {\"size\": 200}, \"ticks\": \"outside\"}, \"yaxis\": {\"tickfont\": {\"size\": 200}, \"ticks\": \"outside\", \"title\": \"y Axis\", \"titlefont\": {\"color\": \"#FFFFFF\", \"family\": \"Courier New, monospace\", \"size\": 40}}}, {\"showLink\": true, \"linkText\": \"Export to plot.ly\", \"plotlyServerURL\": \"https://plot.ly\"})});</script>"
      ],
      "text/vnd.plotly.v1+html": [
       "<div id=\"51873be6-648a-4846-b79f-6dd1b4ea5ead\" style=\"height: 800px; width: 950px;\" class=\"plotly-graph-div\"></div><script type=\"text/javascript\">require([\"plotly\"], function(Plotly) { window.PLOTLYENV=window.PLOTLYENV || {};window.PLOTLYENV.BASE_URL=\"https://plot.ly\";Plotly.newPlot(\"51873be6-648a-4846-b79f-6dd1b4ea5ead\", [{\"colorscale\": \"Portland\", \"lighting\": {\"diffuse\": 0.5, \"fresnel\": 0.2, \"specular\": 0.2}, \"showlegend\": false, \"showscale\": false, \"z\": [[0.0, 0.0, 0.0, 1.0, 0.0, 0.0, 0.0, 0.0, 0.0, 0.0], [0.00021, 0.1259, 1e-05, 0.55823, 0.06387000000000001, 0.25179, 0.0, 0.0, 0.0, 0.0], [0.00014, 0.12314000000000001, 5.9999999999999995e-05, 0.05977999999999999, 0.5705899999999999, 0.24629, 0.0, 0.0, 0.0, 0.0], [0.0001, 5.9999999999999995e-05, 0.0001, 4e-05, 0.9995799999999999, 0.00011999999999999999, 0.0, 0.0, 0.0, 0.0], [0.0001, 0.12859, 5e-05, 0.06815, 0.54594, 0.25716999999999995, 0.0, 0.0, 0.0, 0.0], [0.00031, 0.12032999999999999, 1e-05, 0.5827, 0.055979999999999995, 0.24067, 0.0, 0.0, 0.0, 0.0], [9e-05, 0.00023999999999999998, 0.0, 0.99902, 0.00016, 0.00047999999999999996, 0.0, 0.0, 0.0, 0.0], [5.9999999999999995e-05, 0.13121, 1e-05, 0.53366, 0.07263, 0.26242, 0.0, 0.0, 0.0, 0.0], [0.00015, 0.11747, 5.9999999999999995e-05, 0.052329999999999995, 0.59504, 0.23494, 0.0, 0.0, 0.0, 0.0], [0.0001, 0.00054, 0.0001, 0.00037, 0.9978100000000001, 0.00108, 0.0, 0.0, 0.0, 0.0], [5.9999999999999995e-05, 0.13377, 5e-05, 0.0774, 0.5211899999999999, 0.26753000000000005, 0.0, 0.0, 0.0, 0.0], [0.00027, 0.11456, 0.0, 0.60706, 0.04899, 0.22912, 0.0, 0.0, 0.0, 0.0], [0.00029, 0.0009599999999999999, 0.0, 0.9961700000000001, 0.00066, 0.0019199999999999998, 0.0, 0.0, 0.0, 0.0], [1e-05, 0.13625, 1e-05, 0.5089600000000001, 0.08227000000000001, 0.2725, 0.0, 0.0, 0.0, 0.0], [0.00011, 0.1116, 5.9999999999999995e-05, 0.04582, 0.61919, 0.22321, 0.0, 0.0, 0.0, 0.0], [0.0001, 0.0015, 0.0001, 0.0010199999999999999, 0.9942700000000001, 0.003, 0.0, 0.0, 0.0, 0.0], [5.9999999999999995e-05, 0.13865999999999998, 5e-05, 0.08746, 0.49645, 0.27731, 0.0, 0.0, 0.0, 0.0], [0.00011999999999999999, 0.10860999999999998, 0.0, 0.63116, 0.04289, 0.21721, 0.0, 0.0, 0.0, 0.0], [0.0004, 0.00216, 0.0, 0.99165, 0.00148, 0.0043100000000000005, 0.0, 0.0, 0.0, 0.0], [9e-05, 0.14098, 1e-05, 0.48418, 0.09277, 0.28197, 0.0, 0.0, 0.0, 0.0], [7e-05, 0.10557000000000001, 5.9999999999999995e-05, 0.04021, 0.64294, 0.21114000000000002, 0.0, 0.0, 0.0, 0.0], [0.0001, 0.00293, 0.0001, 0.00202, 0.989, 0.00586, 0.0, 0.0, 0.0, 0.0], [0.00011999999999999999, 0.14323, 5e-05, 0.09833, 0.47183, 0.28645, 0.0, 0.0, 0.0, 0.0], [1e-05, 0.1025, 0.0, 0.65478, 0.037689999999999994, 0.20501, 0.0, 0.0, 0.0, 0.0], [0.00032, 0.0038200000000000005, 0.0, 0.98559, 0.00263, 0.007640000000000001, 0.0, 0.0, 0.0, 0.0], [0.00022, 0.14538, 1e-05, 0.45951000000000003, 0.10411, 0.29077, 0.0, 0.0, 0.0, 0.0]], \"type\": \"surface\", \"uid\": \"458e562b-60a4-4d53-abee-408bc63340b3\"}], {\"autosize\": false, \"height\": 800, \"plot_bgcolor\": \"#AAA\", \"scene\": {\"aspectratio\": {\"x\": 1, \"y\": 5.0, \"z\": 1}, \"camera\": {\"center\": {\"x\": 0, \"y\": 0, \"z\": 0.2}, \"eye\": {\"x\": 3.75, \"y\": 3.75, \"z\": 3.75}, \"up\": {\"x\": 0, \"y\": 0, \"z\": 1}}, \"xaxis\": {\"autorange\": true, \"showgrid\": false, \"showline\": false, \"tickfont\": {\"size\": 14}, \"ticktext\": [\"\", \"[1, 1]\", \"\", \"[0, 1]\", \"[1, 0]\", \"[0, 0]\", \"\", \"\", \"\", \"\"], \"tickvals\": [0, 1, 2, 3, 4, 5, 6, 7, 8, 9], \"title\": \"states\", \"titlefont\": {\"size\": 18}}, \"yaxis\": {\"autorange\": true, \"linewidth\": 1, \"tickfont\": {\"size\": 14}, \"ticktext\": [0.0, 10.0, 20.0, 30.0, 40.0, 50.0], \"tickvals\": [0.0, 5.0, 10.0, 15.0, 20.0, 25.0], \"title\": \"time,  ns\\t\\t\\t\\t.\", \"titlefont\": {\"size\": 18}}, \"zaxis\": {\"autorange\": true, \"linewidth\": 1, \"range\": [0, 1], \"tickfont\": {\"size\": 14}, \"title\": \"prob.\\t\\t\\t\\t\\t\\t.\", \"titlefont\": {\"size\": 18}}}, \"showlegend\": false, \"title\": \"<b>empty cavity</b><br><br><b>n_atoms = 2<br><br>w<sub>c</sub> = 21.506 GHz<br>w<sub>a</sub> = 21.506 GHz<br><br> g/hw<sub>c</sub> = 0.01<br><br></b>\", \"titlefont\": {\"color\": \"#222\", \"family\": \"Lato\", \"size\": 14}, \"width\": 950, \"xaxis\": {\"tickfont\": {\"size\": 200}, \"ticks\": \"outside\"}, \"yaxis\": {\"tickfont\": {\"size\": 200}, \"ticks\": \"outside\", \"title\": \"y Axis\", \"titlefont\": {\"color\": \"#FFFFFF\", \"family\": \"Courier New, monospace\", \"size\": 40}}}, {\"showLink\": true, \"linkText\": \"Export to plot.ly\", \"plotlyServerURL\": \"https://plot.ly\"})});</script>"
      ]
     },
     "metadata": {},
     "output_type": "display_data"
    }
   ],
   "source": [
    "from PyQuantum.TC.PlotBuilder3D import PlotBuilder3D\n",
    "\n",
    "plt = PlotBuilder3D()\n",
    "\n",
    "plt.set_width(950)\n",
    "plt.set_height(800)\n",
    "\n",
    "# ---------------------------------------------- TITLE --------------------------------------------\n",
    "title = \"\"\n",
    "\n",
    "if config.capacity - config.n_atoms > 0:\n",
    "    title += \"<b>\" + str(config.capacity - config.n) + \\\n",
    "        \" фотонов в полости\" + \"</b>\" + \"<br><br>\"\n",
    "else:\n",
    "    title += \"<b>\" + \"empty cavity\" + \"</b>\" + \"<br><br>\"\n",
    "\n",
    "title += \"<b>\"\n",
    "title += \"n_atoms = \" + str(config.n_atoms)\n",
    "\n",
    "# title += \"<br>atoms state: |Ψ<sub>0</sub> i = |11...1>A<sub>0</sub> |00...0>A<sub>1</sub> |vaki<sub>p</sub>\" + \\\n",
    "#     str(config.init_state)\n",
    "title += \"<br>\"\n",
    "title += \"<br>w<sub>c</sub> = \" + wc_str(config.wc)\n",
    "title += \"<br>w<sub>a</sub> = \" + wa_str(config.wa)\n",
    "title += \"<br><br> g/hw<sub>c</sub> = \" + str(config.g/config.wc)\n",
    "title += \"<br>\"\n",
    "title += \"<br>\"\n",
    "title += \"</b>\"\n",
    "\n",
    "plt.set_title(title)\n",
    "# ---------------------------------------------- TITLE --------------------------------------------\n",
    "\n",
    "# ---------------------------------------------- SCALE --------------------------------------------\n",
    "y_scale = 1\n",
    "\n",
    "if config.T < 0.25 * config.mks:\n",
    "    y_scale = 0.1\n",
    "elif config.T <= 0.5 * config.mks:\n",
    "    y_scale = 0.025\n",
    "elif config.T == 0.5 * config.mks:\n",
    "    y_scale = 0.01\n",
    "elif config.T == 1 * config.mks:\n",
    "    y_scale = 7.5\n",
    "    # y_scale = 10\n",
    "elif config.T == 5 * config.mks:\n",
    "    y_scale = 1\n",
    "\n",
    "plt.set_yscale(y_scale)\n",
    "\n",
    "plt.set_xaxis(\"states\")\n",
    "plt.set_yaxis(\"time, \" + T_str_mark(config.T))\n",
    "plt.set_zaxis(\"prob.\\t\\t\\t\\t\\t\\t.\")\n",
    "# ---------------------------------------------- SCALE --------------------------------------------\n",
    "\n",
    "plt.iplot(\n",
    "    x_csv=config.x_csv,\n",
    "    y_csv=config.y_csv,\n",
    "    z_csv=config.z_csv,\n",
    ")"
   ]
  }
 ],
 "metadata": {
  "kernelspec": {
   "display_name": "Python 3",
   "language": "python",
   "name": "python3"
  },
  "language_info": {
   "codemirror_mode": {
    "name": "ipython",
    "version": 3
   },
   "file_extension": ".py",
   "mimetype": "text/x-python",
   "name": "python",
   "nbconvert_exporter": "python",
   "pygments_lexer": "ipython3",
   "version": "3.6.7"
  }
 },
 "nbformat": 4,
 "nbformat_minor": 2
}
