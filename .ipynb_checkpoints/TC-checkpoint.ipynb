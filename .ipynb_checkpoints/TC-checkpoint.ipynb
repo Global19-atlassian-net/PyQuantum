{
 "cells": [
  {
   "cell_type": "code",
   "execution_count": 1,
   "metadata": {},
   "outputs": [],
   "source": [
    "# system\n",
    "import sys"
   ]
  },
  {
   "cell_type": "code",
   "execution_count": 2,
   "metadata": {},
   "outputs": [
    {
     "ename": "ImportError",
     "evalue": "cannot import name 'DensityMatrix'",
     "output_type": "error",
     "traceback": [
      "\u001b[0;31m---------------------------------------------------------------------------\u001b[0m",
      "\u001b[0;31mImportError\u001b[0m                               Traceback (most recent call last)",
      "\u001b[0;32m<ipython-input-2-73c517bb897b>\u001b[0m in \u001b[0;36m<module>\u001b[0;34m\u001b[0m\n\u001b[1;32m      4\u001b[0m \u001b[0;34m\u001b[0m\u001b[0m\n\u001b[1;32m      5\u001b[0m \u001b[0;32mfrom\u001b[0m \u001b[0mPyQuantum\u001b[0m\u001b[0;34m.\u001b[0m\u001b[0mTC\u001b[0m\u001b[0;34m.\u001b[0m\u001b[0mWaveFunction\u001b[0m \u001b[0;32mimport\u001b[0m \u001b[0mWaveFunction\u001b[0m\u001b[0;34m\u001b[0m\u001b[0;34m\u001b[0m\u001b[0m\n\u001b[0;32m----> 6\u001b[0;31m \u001b[0;32mfrom\u001b[0m \u001b[0mPyQuantum\u001b[0m\u001b[0;34m.\u001b[0m\u001b[0mTC\u001b[0m\u001b[0;34m.\u001b[0m\u001b[0mDensityMatrix\u001b[0m \u001b[0;32mimport\u001b[0m \u001b[0mDensityMatrix\u001b[0m\u001b[0;34m\u001b[0m\u001b[0;34m\u001b[0m\u001b[0m\n\u001b[0m\u001b[1;32m      7\u001b[0m \u001b[0;34m\u001b[0m\u001b[0m\n\u001b[1;32m      8\u001b[0m \u001b[0;32mfrom\u001b[0m \u001b[0mPyQuantum\u001b[0m\u001b[0;34m.\u001b[0m\u001b[0mTC\u001b[0m\u001b[0;34m.\u001b[0m\u001b[0mEvolution\u001b[0m \u001b[0;32mimport\u001b[0m \u001b[0;34m*\u001b[0m\u001b[0;34m\u001b[0m\u001b[0;34m\u001b[0m\u001b[0m\n",
      "\u001b[0;31mImportError\u001b[0m: cannot import name 'DensityMatrix'"
     ]
    }
   ],
   "source": [
    "# TC\n",
    "from PyQuantum.TC.Cavity import Cavity\n",
    "from PyQuantum.TC.Hamiltonian import Hamiltonian\n",
    "\n",
    "from PyQuantum.TC.WaveFunction import WaveFunction\n",
    "from PyQuantum.TC.DensityMatrix import *\n",
    "\n",
    "from PyQuantum.TC.Evolution import *"
   ]
  },
  {
   "cell_type": "code",
   "execution_count": null,
   "metadata": {},
   "outputs": [],
   "source": [
    "# Common\n",
    "from PyQuantum.Common.LoadPackage import *\n",
    "from PyQuantum.Common.STR import *\n",
    "\n",
    "from PyQuantum.Common.ext import mkdir\n",
    "from PyQuantum.Common.Print import *\n",
    "from PyQuantum.Common.PyPlot import PyPlot3D"
   ]
  },
  {
   "cell_type": "code",
   "execution_count": null,
   "metadata": {},
   "outputs": [],
   "source": [
    "import PyQuantum.TC.config as config\n",
    "\n",
    "mkdir(config.path)"
   ]
  },
  {
   "cell_type": "code",
   "execution_count": null,
   "metadata": {},
   "outputs": [],
   "source": [
    "cavity = Cavity(n=config.n, wc=config.wc, wa=config.wa, g=config.g)\n",
    "\n",
    "cavity.print()\n",
    "\n",
    "print(\"T:\", config.T)\n",
    "print(\"nt:\", config.nt)\n",
    "print(\"dt:\", config.dt)\n",
    "\n",
    "print()"
   ]
  },
  {
   "cell_type": "code",
   "execution_count": null,
   "metadata": {},
   "outputs": [],
   "source": [
    "H = Hamiltonian(capacity=config.capacity, cavity=cavity)\n",
    "\n",
    "H.print_states()\n",
    "\n",
    "H.iprint_symb()\n",
    "\n",
    "H.df"
   ]
  },
  {
   "cell_type": "code",
   "execution_count": null,
   "metadata": {},
   "outputs": [],
   "source": [
    "w_0 = WaveFunction(states=H.states, init_state=config.init_state) - \\\n",
    "    WaveFunction(states=H.states, init_state=config.init_state2)\n",
    "\n",
    "w_0.normalize()\n",
    "\n",
    "w_0.print()"
   ]
  },
  {
   "cell_type": "code",
   "execution_count": null,
   "metadata": {},
   "outputs": [],
   "source": [
    "run_w(w_0, H, dt=config.dt, nt=config.nt, config=config, fidelity_mode=True)"
   ]
  },
  {
   "cell_type": "code",
   "execution_count": null,
   "metadata": {},
   "outputs": [],
   "source": [
    "from PyQuantum.Common.PyPlot import PlotBuilder\n",
    "\n",
    "plt = PlotBuilder()\n",
    "\n",
    "plt.set_width(950)\n",
    "plt.set_height(650)\n",
    "\n",
    "# ---------------------------------------------- TITLE --------------------------------------------\n",
    "title = \"\"\n",
    "title += \"<b>\"\n",
    "title += \"n = \" + str(config.n)\n",
    "if config.capacity - config.n > 0:\n",
    "    title += \"<br>\" + str(config.capacity - config.n) + \\\n",
    "        \" фотонов в полости\"\n",
    "# else:\n",
    "# title += \"<br>\" + \"empty cavity\"\n",
    "\n",
    "# title += \"<br>atoms state: |Ψ<sub>0</sub> i = |11...1>A<sub>0</sub> |00...0>A<sub>1</sub> |vaki<sub>p</sub>\" + \\\n",
    "#     str(config.init_state)\n",
    "title += \"<br>\"\n",
    "title += \"<br>w<sub>c</sub> = \" + wc_str(config.wc)\n",
    "title += \"<br>w<sub>a</sub> = \" + wa_str(config.wa)\n",
    "title += \"<br> g/hw<sub>c</sub> = \" + str(config.g/config.wc)\n",
    "title += \"<br>\"\n",
    "title += \"<br>\"\n",
    "title += \"</b>\"\n",
    "\n",
    "plt.set_title(title)\n",
    "# ---------------------------------------------- TITLE --------------------------------------------\n",
    "\n",
    "# ---------------------------------------------- SCALE --------------------------------------------\n",
    "y_scale = 1\n",
    "\n",
    "if config.T < 0.25 * config.mks:\n",
    "    y_scale = 0.1\n",
    "elif config.T <= 0.5 * config.mks:\n",
    "    y_scale = 0.025\n",
    "elif config.T == 0.5 * config.mks:\n",
    "    y_scale = 0.01\n",
    "elif config.T == 1 * config.mks:\n",
    "    y_scale = 7.5\n",
    "    # y_scale = 10\n",
    "elif config.T == 5 * config.mks:\n",
    "    y_scale = 1\n",
    "\n",
    "plt.set_yscale(y_scale)\n",
    "\n",
    "plt.set_xaxis(\"states\")\n",
    "plt.set_yaxis(\"time, \" + T_str_mark(config.T))\n",
    "plt.set_zaxis(\"prob.\\t\\t\\t\\t\\t\\t.\")\n",
    "# ---------------------------------------------- SCALE --------------------------------------------\n",
    "\n",
    "# -------------------------------------------------------------------------------------------------\n",
    "plt.PyPlot3D(\n",
    "    x_csv=config.path + \"/\" + \"x.csv\",\n",
    "    y_csv=config.path + \"/\" + \"t.csv\",\n",
    "    z_csv=config.path + \"/\" + \"z.csv\",\n",
    "    # t_coeff=20000 / 1000 * (config.T / 1e-6),\n",
    "    online=False,\n",
    "    path=config.path,\n",
    "    filename=\"Bipartite\",\n",
    ")\n",
    "# -------------------------------------------------------------------------------------------------"
   ]
  }
 ],
 "metadata": {
  "kernelspec": {
   "display_name": "Python 3",
   "language": "python",
   "name": "python3"
  },
  "language_info": {
   "codemirror_mode": {
    "name": "ipython",
    "version": 3
   },
   "file_extension": ".py",
   "mimetype": "text/x-python",
   "name": "python",
   "nbconvert_exporter": "python",
   "pygments_lexer": "ipython3",
   "version": "3.6.7"
  }
 },
 "nbformat": 4,
 "nbformat_minor": 2
}
