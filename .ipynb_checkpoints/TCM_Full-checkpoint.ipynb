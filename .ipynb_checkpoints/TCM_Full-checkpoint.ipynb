{
 "cells": [
  {
   "cell_type": "code",
   "execution_count": 1,
   "metadata": {},
   "outputs": [],
   "source": [
    "# TC\n",
    "from PyQuantum.TCM_Full.Cavity import Cavity\n",
    "from PyQuantum.TCM_Full.Hamiltonian import *\n",
    "\n",
    "from PyQuantum.TCM_Full.WaveFunction import *\n",
    "from PyQuantum.TCM_Full.DensityMatrix import *\n",
    "\n",
    "from PyQuantum.TCM_Full.Evolution import run_wf"
   ]
  },
  {
   "cell_type": "code",
   "execution_count": 2,
   "metadata": {},
   "outputs": [],
   "source": [
    "# Common\n",
    "from PyQuantum.Common.LoadPackage import *\n",
    "from PyQuantum.Common.STR import *\n",
    "\n",
    "from PyQuantum.Common.Tools import mkdir\n",
    "from PyQuantum.Common.Print import *\n",
    "from PyQuantum.Common.PyPlot import PyPlot3D\n",
    "\n",
    "# from shutil import copyfile\n",
    "# from numpy.random import rand"
   ]
  },
  {
   "cell_type": "code",
   "execution_count": 3,
   "metadata": {},
   "outputs": [],
   "source": [
    "config = load_pkg(\"config\", \"PyQuantum/TCM_Full/config.py\")\n",
    "\n",
    "mkdir(config.path)\n",
    "# copyfile(\"PyQuantum/TC/config.py\", config.path + '/config.py')"
   ]
  },
  {
   "cell_type": "code",
   "execution_count": 4,
   "metadata": {},
   "outputs": [
    {
     "name": "stdout",
     "output_type": "stream",
     "text": [
      "\n",
      "\u001b[1;36;1mCavity:\u001b[1;32;0m\n",
      "\u001b[1;33;1mwc: \u001b[1;32;0m21.506 GHz\n",
      "\n",
      "\u001b[1;33;1mwa: \u001b[1;32;0m21.506 GHz\n",
      "\n",
      "\u001b[1;33;1m g: \u001b[1;32;0m215.06 MHz\n",
      "\n",
      "\u001b[1;33;1m n_atoms: \u001b[1;32;0m2\n",
      "\n",
      "\n"
     ]
    }
   ],
   "source": [
    "cavity = Cavity(wc=config.wc, wa=config.wa, g=config.g,\n",
    "                n_atoms=config.n_atoms, n_levels=config.n_levels)\n",
    "\n",
    "print()\n",
    "\n",
    "cavity.print()"
   ]
  },
  {
   "cell_type": "code",
   "execution_count": 5,
   "metadata": {},
   "outputs": [
    {
     "name": "stdout",
     "output_type": "stream",
     "text": [
      "T: 5e-08\n",
      "nt: 25\n",
      "dt: 1.9999999999999997e-09\n",
      "\n"
     ]
    }
   ],
   "source": [
    "print(\"T:\", config.T)\n",
    "print(\"nt:\", config.nt)\n",
    "print(\"dt:\", config.dt)\n",
    "\n",
    "print()"
   ]
  },
  {
   "cell_type": "code",
   "execution_count": 6,
   "metadata": {},
   "outputs": [
    {
     "ename": "NameError",
     "evalue": "name 'HamiltonianL' is not defined",
     "output_type": "error",
     "traceback": [
      "\u001b[0;31m---------------------------------------------------------------------------\u001b[0m",
      "\u001b[0;31mNameError\u001b[0m                                 Traceback (most recent call last)",
      "\u001b[0;32m<ipython-input-6-b65d833e92a0>\u001b[0m in \u001b[0;36m<module>\u001b[0;34m\u001b[0m\n\u001b[0;32m----> 1\u001b[0;31m H = HamiltonianL(capacity=config.capacity,\n\u001b[0m\u001b[1;32m      2\u001b[0m                 cavity=cavity, RWA=False, reduced=True)\n\u001b[1;32m      3\u001b[0m \u001b[0;34m\u001b[0m\u001b[0m\n\u001b[1;32m      4\u001b[0m \u001b[0mH\u001b[0m\u001b[0;34m.\u001b[0m\u001b[0miprint\u001b[0m\u001b[0;34m(\u001b[0m\u001b[0;34m)\u001b[0m\u001b[0;34m\u001b[0m\u001b[0;34m\u001b[0m\u001b[0m\n\u001b[1;32m      5\u001b[0m \u001b[0mH\u001b[0m\u001b[0;34m.\u001b[0m\u001b[0mdf\u001b[0m\u001b[0;34m\u001b[0m\u001b[0;34m\u001b[0m\u001b[0m\n",
      "\u001b[0;31mNameError\u001b[0m: name 'HamiltonianL' is not defined"
     ]
    }
   ],
   "source": [
    "H = HamiltonianL(capacity=config.capacity,\n",
    "                cavity=cavity, RWA=False, reduced=True)\n",
    "\n",
    "H.iprint()\n",
    "H.df"
   ]
  },
  {
   "cell_type": "code",
   "execution_count": null,
   "metadata": {},
   "outputs": [],
   "source": [
    "w_0 = WaveFunction(states=H.states, init_state=config.init_state)\n",
    "\n",
    "w_0.print()"
   ]
  },
  {
   "cell_type": "code",
   "execution_count": null,
   "metadata": {},
   "outputs": [],
   "source": [
    "run_wf(w_0=w_0, H=H, dt=config.dt, nt=config.nt,\n",
    "       config=config, fidelity_mode=True)"
   ]
  },
  {
   "cell_type": "code",
   "execution_count": null,
   "metadata": {},
   "outputs": [],
   "source": [
    "from PyQuantum.TCM_Full.PlotBuilder3D import PlotBuilder3D\n",
    "\n",
    "plt = PlotBuilder3D()\n",
    "\n",
    "plt.set_width(950)\n",
    "plt.set_height(800)\n",
    "\n",
    "# ---------------------------------------------- TITLE --------------------------------------------\n",
    "title = \"\"\n",
    "\n",
    "if config.capacity - config.n_atoms > 0:\n",
    "    title += \"<b>\" + str(config.capacity - config.n) + \\\n",
    "        \" фотонов в полости\" + \"</b>\" + \"<br><br>\"\n",
    "else:\n",
    "    title += \"<b>\" + \"empty cavity\" + \"</b>\" + \"<br><br>\"\n",
    "\n",
    "title += \"<b>\"\n",
    "title += \"n_atoms = \" + str(config.n_atoms)\n",
    "\n",
    "# title += \"<br>atoms state: |Ψ<sub>0</sub> i = |11...1>A<sub>0</sub> |00...0>A<sub>1</sub> |vaki<sub>p</sub>\" + \\\n",
    "#     str(config.init_state)\n",
    "title += \"<br>\"\n",
    "title += \"<br>w<sub>c</sub> = \" + wc_str(config.wc)\n",
    "title += \"<br>w<sub>a</sub> = \" + wa_str(config.wa)\n",
    "title += \"<br><br> g/hw<sub>c</sub> = \" + str(config.g/config.wc)\n",
    "title += \"<br>\"\n",
    "title += \"<br>\"\n",
    "title += \"</b>\"\n",
    "\n",
    "plt.set_title(title)\n",
    "# ---------------------------------------------- TITLE --------------------------------------------\n",
    "\n",
    "# ---------------------------------------------- SCALE --------------------------------------------\n",
    "y_scale = 1\n",
    "\n",
    "if config.T < 0.25 * config.mks:\n",
    "    y_scale = 0.1\n",
    "elif config.T <= 0.5 * config.mks:\n",
    "    y_scale = 0.025\n",
    "elif config.T == 0.5 * config.mks:\n",
    "    y_scale = 0.01\n",
    "elif config.T == 1 * config.mks:\n",
    "    y_scale = 7.5\n",
    "    # y_scale = 10\n",
    "elif config.T == 5 * config.mks:\n",
    "    y_scale = 1\n",
    "\n",
    "plt.set_yscale(y_scale)\n",
    "\n",
    "plt.set_xaxis(\"states\")\n",
    "plt.set_yaxis(\"time, \" + T_str_mark(config.T))\n",
    "plt.set_zaxis(\"prob.\\t\\t\\t\\t\\t\\t.\")\n",
    "# ---------------------------------------------- SCALE --------------------------------------------\n",
    "\n",
    "plt.iplot(\n",
    "    x_csv=config.x_csv,\n",
    "    y_csv=config.y_csv,\n",
    "    z_csv=config.z_csv,\n",
    ")"
   ]
  }
 ],
 "metadata": {
  "kernelspec": {
   "display_name": "Python 3",
   "language": "python",
   "name": "python3"
  },
  "language_info": {
   "codemirror_mode": {
    "name": "ipython",
    "version": 3
   },
   "file_extension": ".py",
   "mimetype": "text/x-python",
   "name": "python",
   "nbconvert_exporter": "python",
   "pygments_lexer": "ipython3",
   "version": "3.6.7"
  }
 },
 "nbformat": 4,
 "nbformat_minor": 2
}
