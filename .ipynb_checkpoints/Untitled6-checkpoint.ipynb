{
 "cells": [
  {
   "cell_type": "code",
   "execution_count": 1,
   "metadata": {},
   "outputs": [],
   "source": [
    "# system\n",
    "import sys"
   ]
  },
  {
   "cell_type": "code",
   "execution_count": 2,
   "metadata": {},
   "outputs": [],
   "source": [
    "# TC\n",
    "from PyQuantum.TC_Full.Cavity import Cavity\n",
    "from PyQuantum.TC_Full.Hamiltonian import *\n",
    "\n",
    "from PyQuantum.TC_Full.WaveFunction import *\n",
    "from PyQuantum.TC_Full.DensityMatrix import *\n",
    "\n",
    "# from PyQuantum.TC_Full.Evolution import *"
   ]
  },
  {
   "cell_type": "code",
   "execution_count": 3,
   "metadata": {},
   "outputs": [],
   "source": [
    "# Common\n",
    "from PyQuantum.Common.LoadPackage import *\n",
    "from PyQuantum.Common.STR import *\n",
    "\n",
    "from PyQuantum.Common.ext import mkdir\n",
    "from PyQuantum.Common.Print import *\n",
    "from PyQuantum.Common.PyPlot import PyPlot3D\n",
    "# from shutil import copyfile\n",
    "# from numpy.random import rand"
   ]
  },
  {
   "cell_type": "code",
   "execution_count": 4,
   "metadata": {},
   "outputs": [
    {
     "ename": "AttributeError",
     "evalue": "module 'PyQuantum.TC_Full' has no attribute 'path'",
     "output_type": "error",
     "traceback": [
      "\u001b[0;31m---------------------------------------------------------------------------\u001b[0m",
      "\u001b[0;31mAttributeError\u001b[0m                            Traceback (most recent call last)",
      "\u001b[0;32m<ipython-input-4-172ccf864098>\u001b[0m in \u001b[0;36m<module>\u001b[0;34m\u001b[0m\n\u001b[1;32m      1\u001b[0m \u001b[0;32mimport\u001b[0m \u001b[0mPyQuantum\u001b[0m\u001b[0;34m.\u001b[0m\u001b[0mTC_Full\u001b[0m \u001b[0;32mas\u001b[0m \u001b[0mconfig\u001b[0m\u001b[0;34m\u001b[0m\u001b[0;34m\u001b[0m\u001b[0m\n\u001b[1;32m      2\u001b[0m \u001b[0;34m\u001b[0m\u001b[0m\n\u001b[0;32m----> 3\u001b[0;31m \u001b[0mmkdir\u001b[0m\u001b[0;34m(\u001b[0m\u001b[0mconfig\u001b[0m\u001b[0;34m.\u001b[0m\u001b[0mpath\u001b[0m\u001b[0;34m)\u001b[0m\u001b[0;34m\u001b[0m\u001b[0;34m\u001b[0m\u001b[0m\n\u001b[0m\u001b[1;32m      4\u001b[0m \u001b[0;31m# copyfile(\"PyQuantum/TC/config.py\", config.path + '/config.py')\u001b[0m\u001b[0;34m\u001b[0m\u001b[0;34m\u001b[0m\u001b[0;34m\u001b[0m\u001b[0m\n",
      "\u001b[0;31mAttributeError\u001b[0m: module 'PyQuantum.TC_Full' has no attribute 'path'"
     ]
    }
   ],
   "source": [
    "import PyQuantum.TC_Full.config as config\n",
    "\n",
    "mkdir(config.path)\n",
    "# copyfile(\"PyQuantum/TC/config.py\", config.path + '/config.py')"
   ]
  },
  {
   "cell_type": "code",
   "execution_count": null,
   "metadata": {},
   "outputs": [],
   "source": [
    "cavity = Cavity(n=config.n, wc=config.wc, wa=config.wa, g=config.g)\n",
    "\n",
    "print(\"Cavity:\", color=\"green\")\n",
    "\n",
    "print()\n",
    "\n",
    "cavity.print_n()\n",
    "cavity.print_wc()\n",
    "cavity.print_wa()\n",
    "cavity.print_g()"
   ]
  },
  {
   "cell_type": "code",
   "execution_count": null,
   "metadata": {},
   "outputs": [],
   "source": [
    "print(\"T:\", config.T)\n",
    "print(\"nt:\", config.nt)\n",
    "print(\"dt:\", config.dt)\n",
    "\n",
    "print()"
   ]
  },
  {
   "cell_type": "code",
   "execution_count": null,
   "metadata": {},
   "outputs": [],
   "source": [
    "H = get_H_RWA(capacity=config.capacity, at_count=config.n,\n",
    "              wc=config.wc, wa=config.wa, g=config.g, RWA=True)"
   ]
  },
  {
   "cell_type": "code",
   "execution_count": null,
   "metadata": {},
   "outputs": [],
   "source": [
    "w0 = get_w0(ph_count=config.capacity, init_state=config.init_state)"
   ]
  },
  {
   "cell_type": "code",
   "execution_count": null,
   "metadata": {},
   "outputs": [],
   "source": [
    "title = ''\n",
    "color = 'blue'\n",
    "\n",
    "run_RWA(w0=w0, H=H, t0=0, t1=config.T, nt=500, initstate=config.init_state,\n",
    "        certain_state=config.certain_state, ymin=0, ymax=1.005, title=title, color=color)\n"
   ]
  }
 ],
 "metadata": {
  "kernelspec": {
   "display_name": "Python 3",
   "language": "python",
   "name": "python3"
  },
  "language_info": {
   "codemirror_mode": {
    "name": "ipython",
    "version": 3
   },
   "file_extension": ".py",
   "mimetype": "text/x-python",
   "name": "python",
   "nbconvert_exporter": "python",
   "pygments_lexer": "ipython3",
   "version": "3.6.7"
  }
 },
 "nbformat": 4,
 "nbformat_minor": 2
}
