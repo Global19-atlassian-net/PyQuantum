{
 "cells": [
  {
   "cell_type": "code",
   "execution_count": 1,
   "metadata": {},
   "outputs": [],
   "source": [
    "# system\n",
    "import copy\n",
    "from PyQuantum.Common.Matrix import *\n",
    "import itertools\n",
    "import sys"
   ]
  },
  {
   "cell_type": "code",
   "execution_count": 2,
   "metadata": {},
   "outputs": [],
   "source": [
    "# TCH\n",
    "from PyQuantum.TCH_Full.Cavity import Cavity\n",
    "from PyQuantum.TCH_Full.CavityChain import CavityChain\n",
    "from PyQuantum.TCH_Full.Hamiltonian import *\n",
    "\n",
    "# from PyQuantum.TCH_Full.WaveFunction import WaveFunction\n",
    "from PyQuantum.TCH_Full.DensityMatrix import *\n",
    "from PyQuantum.TCH_Full.FullBase import *\n",
    "\n",
    "from PyQuantum.TCH_Full.Evolution import *"
   ]
  },
  {
   "cell_type": "code",
   "execution_count": 3,
   "metadata": {},
   "outputs": [],
   "source": [
    "# Common\n",
    "from PyQuantum.Common.LoadPackage import *\n",
    "from PyQuantum.Common.STR import *\n",
    "\n",
    "from PyQuantum.Common.ext import mkdir\n",
    "from PyQuantum.Common.Print import *\n",
    "from PyQuantum.Common.PyPlot import PyPlot3D\n",
    "\n",
    "import PyQuantum.TCH_Full.WaveFunction as wf2\n",
    "\n",
    "# from shutil import copyfile\n",
    "# from numpy.random import rand"
   ]
  },
  {
   "cell_type": "code",
   "execution_count": 4,
   "metadata": {},
   "outputs": [],
   "source": [
    "import PyQuantum.TCH_Full.config as config\n",
    "# config = load_pkg(\"config\", \"PyQuantum/TC/config.py\")\n",
    "\n",
    "mkdir(config.path)\n",
    "# copyfile(\"PyQuantum/TC/config.py\", config.path + '/config.py')"
   ]
  },
  {
   "cell_type": "code",
   "execution_count": 5,
   "metadata": {},
   "outputs": [
    {
     "name": "stdout",
     "output_type": "stream",
     "text": [
      "\u001b[1;36;1mCavity 1:\u001b[1;32;0m\n",
      "\u001b[1;33;1m n: \u001b[1;32;0m2\n",
      "\n",
      "\u001b[1;33;1mwc: \u001b[1;32;0m21.506 GHz\n",
      "\n",
      "\u001b[1;33;1mwa: \u001b[1;32;0m21.506 GHz\n",
      "\n",
      "\u001b[1;33;1m g: \u001b[1;32;0m215.06 MHz\n",
      "\n",
      "\n",
      "\u001b[1;36;1mCavity 2:\u001b[1;32;0m\n",
      "\u001b[1;33;1m n: \u001b[1;32;0m2\n",
      "\n",
      "\u001b[1;33;1mwc: \u001b[1;32;0m21.506 GHz\n",
      "\n",
      "\u001b[1;33;1mwa: \u001b[1;32;0m21.506 GHz\n",
      "\n",
      "\u001b[1;33;1m g: \u001b[1;32;0m215.06 MHz\n",
      "\n",
      "\n"
     ]
    }
   ],
   "source": [
    "cavity_1 = Cavity(n=config.n_1, wc=config.wc_1, wa=config.wa_1, g=config.g_1)\n",
    "\n",
    "cavity_1.print(title=\"Cavity 1:\")\n",
    "\n",
    "cavity_2 = Cavity(n=config.n_2, wc=config.wc_2, wa=config.wa_2, g=config.g_2)\n",
    "\n",
    "cavity_2.print(title=\"Cavity 2:\")\n",
    "\n",
    "cv_chain = CavityChain([cavity_1, cavity_2])"
   ]
  },
  {
   "cell_type": "code",
   "execution_count": 6,
   "metadata": {},
   "outputs": [
    {
     "name": "stdout",
     "output_type": "stream",
     "text": [
      "T: 5e-08\n",
      "nt: 25\n",
      "dt: 1.9999999999999997e-09\n",
      "\n"
     ]
    }
   ],
   "source": [
    "print(\"T:\", config.T)\n",
    "print(\"nt:\", config.nt)\n",
    "print(\"dt:\", config.dt)\n",
    "\n",
    "print()"
   ]
  },
  {
   "cell_type": "code",
   "execution_count": 7,
   "metadata": {},
   "outputs": [
    {
     "ename": "AttributeError",
     "evalue": "'Hamiltonian' object has no attribute 'states_str'",
     "output_type": "error",
     "traceback": [
      "\u001b[0;31m---------------------------------------------------------------------------\u001b[0m",
      "\u001b[0;31mAttributeError\u001b[0m                            Traceback (most recent call last)",
      "\u001b[0;32m<ipython-input-7-3ff8c54a3929>\u001b[0m in \u001b[0;36m<module>\u001b[0;34m\u001b[0m\n\u001b[1;32m      4\u001b[0m \u001b[0mH\u001b[0m\u001b[0;34m.\u001b[0m\u001b[0mwrite_to_file\u001b[0m\u001b[0;34m(\u001b[0m\u001b[0mfilename\u001b[0m\u001b[0;34m=\u001b[0m\u001b[0mconfig\u001b[0m\u001b[0;34m.\u001b[0m\u001b[0mH_csv\u001b[0m\u001b[0;34m)\u001b[0m\u001b[0;34m\u001b[0m\u001b[0;34m\u001b[0m\u001b[0m\n\u001b[1;32m      5\u001b[0m \u001b[0;34m\u001b[0m\u001b[0m\n\u001b[0;32m----> 6\u001b[0;31m \u001b[0mH\u001b[0m\u001b[0;34m.\u001b[0m\u001b[0miprint\u001b[0m\u001b[0;34m(\u001b[0m\u001b[0;34m)\u001b[0m\u001b[0;34m\u001b[0m\u001b[0;34m\u001b[0m\u001b[0m\n\u001b[0m\u001b[1;32m      7\u001b[0m \u001b[0;34m\u001b[0m\u001b[0m\n\u001b[1;32m      8\u001b[0m \u001b[0mH\u001b[0m\u001b[0;34m.\u001b[0m\u001b[0mdf\u001b[0m\u001b[0;34m\u001b[0m\u001b[0;34m\u001b[0m\u001b[0m\n",
      "\u001b[0;32m~/Git/PyQuantum/PyQuantum/TCH_Full/Hamiltonian.py\u001b[0m in \u001b[0;36miprint\u001b[0;34m(self)\u001b[0m\n\u001b[1;32m     90\u001b[0m                 \u001b[0mdf\u001b[0m\u001b[0;34m.\u001b[0m\u001b[0mloc\u001b[0m\u001b[0;34m[\u001b[0m\u001b[0mi\u001b[0m\u001b[0;34m,\u001b[0m \u001b[0mj\u001b[0m\u001b[0;34m]\u001b[0m \u001b[0;34m=\u001b[0m \u001b[0mwc_str\u001b[0m\u001b[0;34m(\u001b[0m\u001b[0mabs\u001b[0m\u001b[0;34m(\u001b[0m\u001b[0mself\u001b[0m\u001b[0;34m.\u001b[0m\u001b[0mmatrix\u001b[0m\u001b[0;34m.\u001b[0m\u001b[0mdata\u001b[0m\u001b[0;34m[\u001b[0m\u001b[0mi\u001b[0m\u001b[0;34m,\u001b[0m \u001b[0mj\u001b[0m\u001b[0;34m]\u001b[0m\u001b[0;34m)\u001b[0m\u001b[0;34m)\u001b[0m\u001b[0;34m\u001b[0m\u001b[0;34m\u001b[0m\u001b[0m\n\u001b[1;32m     91\u001b[0m \u001b[0;34m\u001b[0m\u001b[0m\n\u001b[0;32m---> 92\u001b[0;31m         \u001b[0mdf\u001b[0m\u001b[0;34m.\u001b[0m\u001b[0mindex\u001b[0m \u001b[0;34m=\u001b[0m \u001b[0mdf\u001b[0m\u001b[0;34m.\u001b[0m\u001b[0mcolumns\u001b[0m \u001b[0;34m=\u001b[0m \u001b[0mself\u001b[0m\u001b[0;34m.\u001b[0m\u001b[0mstates_str\u001b[0m\u001b[0;34m\u001b[0m\u001b[0;34m\u001b[0m\u001b[0m\n\u001b[0m\u001b[1;32m     93\u001b[0m \u001b[0;34m\u001b[0m\u001b[0m\n\u001b[1;32m     94\u001b[0m         \u001b[0mself\u001b[0m\u001b[0;34m.\u001b[0m\u001b[0mdf\u001b[0m \u001b[0;34m=\u001b[0m \u001b[0mdf\u001b[0m\u001b[0;34m\u001b[0m\u001b[0;34m\u001b[0m\u001b[0m\n",
      "\u001b[0;31mAttributeError\u001b[0m: 'Hamiltonian' object has no attribute 'states_str'"
     ]
    }
   ],
   "source": [
    "H = Hamiltonian(capacity=config.capacity,\n",
    "                cv_chain=cv_chain, mu=config.mu, RWA=True)\n",
    "\n",
    "H.write_to_file(filename=config.H_csv)\n",
    "\n",
    "H.iprint()\n",
    "\n",
    "H.df"
   ]
  },
  {
   "cell_type": "code",
   "execution_count": null,
   "metadata": {},
   "outputs": [],
   "source": [
    "w0 = wf2.get_w0(ph_count1=2, init_state1=config.init_state1,\n",
    "                ph_count2=2, init_state2=config.init_state2)"
   ]
  },
  {
   "cell_type": "code",
   "execution_count": null,
   "metadata": {},
   "outputs": [],
   "source": [
    "wf2.run(w0=w0, H=H, t0=0, t1=config.T, nt=500, initstate1=config.init_state1, initstate2=config.init_state2,\n",
    "        ph_count1=2, ph_count2=2, ymin=0, ymax=1, RWA=True, title='title', color='blue')\n",
    "\n",
    "print(2)"
   ]
  }
 ],
 "metadata": {
  "kernelspec": {
   "display_name": "Python 3",
   "language": "python",
   "name": "python3"
  },
  "language_info": {
   "codemirror_mode": {
    "name": "ipython",
    "version": 3
   },
   "file_extension": ".py",
   "mimetype": "text/x-python",
   "name": "python",
   "nbconvert_exporter": "python",
   "pygments_lexer": "ipython3",
   "version": "3.6.7"
  }
 },
 "nbformat": 4,
 "nbformat_minor": 2
}
